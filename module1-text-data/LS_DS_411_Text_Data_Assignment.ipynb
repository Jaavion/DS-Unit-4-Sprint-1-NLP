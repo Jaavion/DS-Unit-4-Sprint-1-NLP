{
  "nbformat": 4,
  "nbformat_minor": 0,
  "metadata": {
    "colab": {
      "name": "LS_DS_421_Text_Data_Assignment.ipynb",
      "version": "0.3.2",
      "provenance": [],
      "collapsed_sections": []
    },
    "kernelspec": {
      "display_name": "Python 3",
      "language": "python",
      "name": "python3"
    },
    "language_info": {
      "codemirror_mode": {
        "name": "ipython",
        "version": 3
      },
      "file_extension": ".py",
      "mimetype": "text/x-python",
      "name": "python",
      "nbconvert_exporter": "python",
      "pygments_lexer": "ipython3",
      "version": "3.7.3"
    },
    "toc-autonumbering": false
  },
  "cells": [
    {
      "cell_type": "markdown",
      "metadata": {
        "id": "TwcfR8Ykhj-K",
        "colab_type": "text"
      },
      "source": [
        "<img align=\"left\" src=\"https://lever-client-logos.s3.amazonaws.com/864372b1-534c-480e-acd5-9711f850815c-1524247202159.png\" width=200>\n",
        "<br></br>\n",
        "<br></br>\n",
        "\n",
        "# Natural Language Processing (NLP)\n",
        "## *Data Science Unit 4 Sprint 1 Assignment 1*\n",
        "\n",
        "Your goal in assignment: find the attributes of the best & worst coffee shops in the dataset. The text is fairly raw: dates in the review, extra words in the `star_rating` column, etc. You'll probably want to clean that stuff up for a better analysis. \n",
        "\n",
        "Analyze the corpus of text using text visualizations of token frequency. Try cleaning the data as much as possible. Try the following techniques: \n",
        "- Lemmatization\n",
        "- Custom stopword removal\n",
        "\n",
        "Keep in mind the attributes of good tokens. Once you have a solid baseline, layer in the star rating in your visualization(s). Keep part in this assignment - produce a write-up of the attributes of the best and worst coffee shops. Based on your analysis, what makes the best the best and the worst the worst. Use graphs and numbesr from your analysis to support your conclusions. There should be plenty of markdown cells! :coffee:"
      ]
    },
    {
      "cell_type": "code",
      "metadata": {
        "id": "pkXgIC6Hhj-T",
        "colab_type": "code",
        "colab": {
          "base_uri": "https://localhost:8080/",
          "height": 321
        },
        "outputId": "49e9c3b4-c20d-499c-ce2e-918c43e3ba29"
      },
      "source": [
        "from IPython.display import YouTubeVideo\n",
        "\n",
        "YouTubeVideo('Jml7NVYm8cs')"
      ],
      "execution_count": 97,
      "outputs": [
        {
          "output_type": "execute_result",
          "data": {
            "text/html": [
              "\n",
              "        <iframe\n",
              "            width=\"400\"\n",
              "            height=\"300\"\n",
              "            src=\"https://www.youtube.com/embed/Jml7NVYm8cs\"\n",
              "            frameborder=\"0\"\n",
              "            allowfullscreen\n",
              "        ></iframe>\n",
              "        "
            ],
            "text/plain": [
              "<IPython.lib.display.YouTubeVideo at 0x7f2624b38588>"
            ],
            "image/jpeg": "[encoded data removed]"
          },
          "metadata": {
            "tags": []
          },
          "execution_count": 97
        }
      ]
    },
    {
      "cell_type": "code",
      "metadata": {
        "id": "_IMo7wb-hj-a",
        "colab_type": "code",
        "colab": {
          "base_uri": "https://localhost:8080/",
          "height": 204
        },
        "outputId": "a1c06101-9a32-4922-ef82-f100775cb043"
      },
      "source": [
        "import pandas as pd\n",
        "shops = 'https://raw.githubusercontent.com/LambdaSchool/DS-Unit-4-Sprint-1-NLP/master/module1-text-data/data/yelp_coffeeshop_review_data.csv'\n",
        "shop = pd.read_csv(shops)\n",
        "shop.head()"
      ],
      "execution_count": 110,
      "outputs": [
        {
          "output_type": "execute_result",
          "data": {
            "text/html": [
              "<div>\n",
              "<style scoped>\n",
              "    .dataframe tbody tr th:only-of-type {\n",
              "        vertical-align: middle;\n",
              "    }\n",
              "\n",
              "    .dataframe tbody tr th {\n",
              "        vertical-align: top;\n",
              "    }\n",
              "\n",
              "    .dataframe thead th {\n",
              "        text-align: right;\n",
              "    }\n",
              "</style>\n",
              "<table border=\"1\" class=\"dataframe\">\n",
              "  <thead>\n",
              "    <tr style=\"text-align: right;\">\n",
              "      <th></th>\n",
              "      <th>coffee_shop_name</th>\n",
              "      <th>full_review_text</th>\n",
              "      <th>star_rating</th>\n",
              "    </tr>\n",
              "  </thead>\n",
              "  <tbody>\n",
              "    <tr>\n",
              "      <th>0</th>\n",
              "      <td>The Factory - Cafe With a Soul</td>\n",
              "      <td>11/25/2016 1 check-in Love love loved the atm...</td>\n",
              "      <td>5.0 star rating</td>\n",
              "    </tr>\n",
              "    <tr>\n",
              "      <th>1</th>\n",
              "      <td>The Factory - Cafe With a Soul</td>\n",
              "      <td>12/2/2016 Listed in Date Night: Austin, Ambia...</td>\n",
              "      <td>4.0 star rating</td>\n",
              "    </tr>\n",
              "    <tr>\n",
              "      <th>2</th>\n",
              "      <td>The Factory - Cafe With a Soul</td>\n",
              "      <td>11/30/2016 1 check-in Listed in Brunch Spots ...</td>\n",
              "      <td>4.0 star rating</td>\n",
              "    </tr>\n",
              "    <tr>\n",
              "      <th>3</th>\n",
              "      <td>The Factory - Cafe With a Soul</td>\n",
              "      <td>11/25/2016 Very cool decor! Good drinks Nice ...</td>\n",
              "      <td>2.0 star rating</td>\n",
              "    </tr>\n",
              "    <tr>\n",
              "      <th>4</th>\n",
              "      <td>The Factory - Cafe With a Soul</td>\n",
              "      <td>12/3/2016 1 check-in They are located within ...</td>\n",
              "      <td>4.0 star rating</td>\n",
              "    </tr>\n",
              "  </tbody>\n",
              "</table>\n",
              "</div>"
            ],
            "text/plain": [
              "                  coffee_shop_name  ...        star_rating\n",
              "0  The Factory - Cafe With a Soul   ...   5.0 star rating \n",
              "1  The Factory - Cafe With a Soul   ...   4.0 star rating \n",
              "2  The Factory - Cafe With a Soul   ...   4.0 star rating \n",
              "3  The Factory - Cafe With a Soul   ...   2.0 star rating \n",
              "4  The Factory - Cafe With a Soul   ...   4.0 star rating \n",
              "\n",
              "[5 rows x 3 columns]"
            ]
          },
          "metadata": {
            "tags": []
          },
          "execution_count": 110
        }
      ]
    },
    {
      "cell_type": "code",
      "metadata": {
        "id": "4i8BT9cnTbNF",
        "colab_type": "code",
        "colab": {
          "base_uri": "https://localhost:8080/",
          "height": 54
        },
        "outputId": "d36197cc-d161-4680-aa73-c361f1407b94"
      },
      "source": [
        "pip install squarify"
      ],
      "execution_count": 8,
      "outputs": [
        {
          "output_type": "stream",
          "text": [
            "Requirement already satisfied: squarify in /usr/local/lib/python3.6/dist-packages (0.4.3)\n"
          ],
          "name": "stdout"
        }
      ]
    },
    {
      "cell_type": "code",
      "metadata": {
        "id": "rQpJrPwCpLDu",
        "colab_type": "code",
        "colab": {
          "base_uri": "https://localhost:8080/",
          "height": 309
        },
        "outputId": "331552ae-6b79-4ad2-95d4-b862f3ddc32c"
      },
      "source": [
        "pip install spacy "
      ],
      "execution_count": 9,
      "outputs": [
        {
          "output_type": "stream",
          "text": [
            "Requirement already satisfied: spacy in /usr/local/lib/python3.6/dist-packages (2.1.6)\n",
            "Requirement already satisfied: cymem<2.1.0,>=2.0.2 in /usr/local/lib/python3.6/dist-packages (from spacy) (2.0.2)\n",
            "Requirement already satisfied: srsly<1.1.0,>=0.0.6 in /usr/local/lib/python3.6/dist-packages (from spacy) (0.0.7)\n",
            "Requirement already satisfied: murmurhash<1.1.0,>=0.28.0 in /usr/local/lib/python3.6/dist-packages (from spacy) (1.0.2)\n",
            "Requirement already satisfied: blis<0.3.0,>=0.2.2 in /usr/local/lib/python3.6/dist-packages (from spacy) (0.2.4)\n",
            "Requirement already satisfied: wasabi<1.1.0,>=0.2.0 in /usr/local/lib/python3.6/dist-packages (from spacy) (0.2.2)\n",
            "Requirement already satisfied: numpy>=1.15.0 in /usr/local/lib/python3.6/dist-packages (from spacy) (1.16.4)\n",
            "Requirement already satisfied: requests<3.0.0,>=2.13.0 in /usr/local/lib/python3.6/dist-packages (from spacy) (2.21.0)\n",
            "Requirement already satisfied: plac<1.0.0,>=0.9.6 in /usr/local/lib/python3.6/dist-packages (from spacy) (0.9.6)\n",
            "Requirement already satisfied: thinc<7.1.0,>=7.0.8 in /usr/local/lib/python3.6/dist-packages (from spacy) (7.0.8)\n",
            "Requirement already satisfied: preshed<2.1.0,>=2.0.1 in /usr/local/lib/python3.6/dist-packages (from spacy) (2.0.1)\n",
            "Requirement already satisfied: idna<2.9,>=2.5 in /usr/local/lib/python3.6/dist-packages (from requests<3.0.0,>=2.13.0->spacy) (2.8)\n",
            "Requirement already satisfied: chardet<3.1.0,>=3.0.2 in /usr/local/lib/python3.6/dist-packages (from requests<3.0.0,>=2.13.0->spacy) (3.0.4)\n",
            "Requirement already satisfied: certifi>=2017.4.17 in /usr/local/lib/python3.6/dist-packages (from requests<3.0.0,>=2.13.0->spacy) (2019.6.16)\n",
            "Requirement already satisfied: urllib3<1.25,>=1.21.1 in /usr/local/lib/python3.6/dist-packages (from requests<3.0.0,>=2.13.0->spacy) (1.24.3)\n",
            "Requirement already satisfied: tqdm<5.0.0,>=4.10.0 in /usr/local/lib/python3.6/dist-packages (from thinc<7.1.0,>=7.0.8->spacy) (4.28.1)\n"
          ],
          "name": "stdout"
        }
      ]
    },
    {
      "cell_type": "code",
      "metadata": {
        "id": "93Eq0wxEhj-e",
        "colab_type": "code",
        "colab": {}
      },
      "source": [
        " \"\"\"\n",
        "Import Statements\n",
        "\"\"\"\n",
        "\n",
        "# Base\n",
        "from collections import Counter\n",
        "import re\n",
        "\n",
        "import pandas as pd\n",
        "\n",
        "# Plotting\n",
        "import squarify\n",
        "import matplotlib.pyplot as plt\n",
        "import seaborn as sns\n",
        "\n",
        "# NLP Libraries\n",
        "import spacy\n",
        "from spacy.tokenizer import Tokenizer\n",
        "from nltk.stem import PorterStemmer\n",
        "\n",
        "nlp = spacy.load(\"en_core_web_sm\")\n"
      ],
      "execution_count": 0,
      "outputs": []
    },
    {
      "cell_type": "code",
      "metadata": {
        "id": "Ho65vEsUpmaU",
        "colab_type": "code",
        "colab": {}
      },
      "source": [
        "# Base\n",
        "from collections import Counter\n",
        "import re"
      ],
      "execution_count": 0,
      "outputs": []
    },
    {
      "cell_type": "code",
      "metadata": {
        "id": "Qsm8tstcpkgT",
        "colab_type": "code",
        "colab": {}
      },
      "source": [
        "# Plotting\n",
        "import squarify\n",
        "import matplotlib.pyplot as plt\n",
        "import seaborn as sns\n"
      ],
      "execution_count": 0,
      "outputs": []
    },
    {
      "cell_type": "code",
      "metadata": {
        "id": "mo7ONe2ApiUB",
        "colab_type": "code",
        "colab": {}
      },
      "source": [
        "import pandas as pd\n"
      ],
      "execution_count": 0,
      "outputs": []
    },
    {
      "cell_type": "code",
      "metadata": {
        "id": "Z945T0V9pa-w",
        "colab_type": "code",
        "colab": {}
      },
      "source": [
        "# NLP Libraries\n",
        "import spacy\n",
        "from spacy.tokenizer import Tokenizer\n",
        "from nltk.stem import PorterStemmer \n",
        "nlp = spacy.load(\"en_core_web_sm\")\n"
      ],
      "execution_count": 0,
      "outputs": []
    },
    {
      "cell_type": "code",
      "metadata": {
        "id": "cik6ArbSnmti",
        "colab_type": "code",
        "colab": {
          "base_uri": "https://localhost:8080/",
          "height": 54
        },
        "outputId": "54482f52-80fe-4f05-a335-c7cc24cfecbc"
      },
      "source": [
        "pip install squarify"
      ],
      "execution_count": 15,
      "outputs": [
        {
          "output_type": "stream",
          "text": [
            "Requirement already satisfied: squarify in /usr/local/lib/python3.6/dist-packages (0.4.3)\n"
          ],
          "name": "stdout"
        }
      ]
    },
    {
      "cell_type": "code",
      "metadata": {
        "id": "FzxSiUSfnxBH",
        "colab_type": "code",
        "colab": {
          "base_uri": "https://localhost:8080/",
          "height": 309
        },
        "outputId": "a3393f93-1017-42a3-9653-4c26ebde81f0"
      },
      "source": [
        "pip install spacy"
      ],
      "execution_count": 16,
      "outputs": [
        {
          "output_type": "stream",
          "text": [
            "Requirement already satisfied: spacy in /usr/local/lib/python3.6/dist-packages (2.1.6)\n",
            "Requirement already satisfied: requests<3.0.0,>=2.13.0 in /usr/local/lib/python3.6/dist-packages (from spacy) (2.21.0)\n",
            "Requirement already satisfied: thinc<7.1.0,>=7.0.8 in /usr/local/lib/python3.6/dist-packages (from spacy) (7.0.8)\n",
            "Requirement already satisfied: murmurhash<1.1.0,>=0.28.0 in /usr/local/lib/python3.6/dist-packages (from spacy) (1.0.2)\n",
            "Requirement already satisfied: cymem<2.1.0,>=2.0.2 in /usr/local/lib/python3.6/dist-packages (from spacy) (2.0.2)\n",
            "Requirement already satisfied: preshed<2.1.0,>=2.0.1 in /usr/local/lib/python3.6/dist-packages (from spacy) (2.0.1)\n",
            "Requirement already satisfied: numpy>=1.15.0 in /usr/local/lib/python3.6/dist-packages (from spacy) (1.16.4)\n",
            "Requirement already satisfied: blis<0.3.0,>=0.2.2 in /usr/local/lib/python3.6/dist-packages (from spacy) (0.2.4)\n",
            "Requirement already satisfied: plac<1.0.0,>=0.9.6 in /usr/local/lib/python3.6/dist-packages (from spacy) (0.9.6)\n",
            "Requirement already satisfied: srsly<1.1.0,>=0.0.6 in /usr/local/lib/python3.6/dist-packages (from spacy) (0.0.7)\n",
            "Requirement already satisfied: wasabi<1.1.0,>=0.2.0 in /usr/local/lib/python3.6/dist-packages (from spacy) (0.2.2)\n",
            "Requirement already satisfied: idna<2.9,>=2.5 in /usr/local/lib/python3.6/dist-packages (from requests<3.0.0,>=2.13.0->spacy) (2.8)\n",
            "Requirement already satisfied: chardet<3.1.0,>=3.0.2 in /usr/local/lib/python3.6/dist-packages (from requests<3.0.0,>=2.13.0->spacy) (3.0.4)\n",
            "Requirement already satisfied: certifi>=2017.4.17 in /usr/local/lib/python3.6/dist-packages (from requests<3.0.0,>=2.13.0->spacy) (2019.6.16)\n",
            "Requirement already satisfied: urllib3<1.25,>=1.21.1 in /usr/local/lib/python3.6/dist-packages (from requests<3.0.0,>=2.13.0->spacy) (1.24.3)\n",
            "Requirement already satisfied: tqdm<5.0.0,>=4.10.0 in /usr/local/lib/python3.6/dist-packages (from thinc<7.1.0,>=7.0.8->spacy) (4.28.1)\n"
          ],
          "name": "stdout"
        }
      ]
    },
    {
      "cell_type": "code",
      "metadata": {
        "id": "i5EopomUrLbe",
        "colab_type": "code",
        "colab": {
          "base_uri": "https://localhost:8080/",
          "height": 1000
        },
        "outputId": "59ebc57d-7daf-4dc7-bd09-a4a546f4dcbd"
      },
      "source": [
        "shop[:50]"
      ],
      "execution_count": 17,
      "outputs": [
        {
          "output_type": "execute_result",
          "data": {
            "text/html": [
              "<div>\n",
              "<style scoped>\n",
              "    .dataframe tbody tr th:only-of-type {\n",
              "        vertical-align: middle;\n",
              "    }\n",
              "\n",
              "    .dataframe tbody tr th {\n",
              "        vertical-align: top;\n",
              "    }\n",
              "\n",
              "    .dataframe thead th {\n",
              "        text-align: right;\n",
              "    }\n",
              "</style>\n",
              "<table border=\"1\" class=\"dataframe\">\n",
              "  <thead>\n",
              "    <tr style=\"text-align: right;\">\n",
              "      <th></th>\n",
              "      <th>coffee_shop_name</th>\n",
              "      <th>full_review_text</th>\n",
              "      <th>star_rating</th>\n",
              "    </tr>\n",
              "  </thead>\n",
              "  <tbody>\n",
              "    <tr>\n",
              "      <th>0</th>\n",
              "      <td>The Factory - Cafe With a Soul</td>\n",
              "      <td>11/25/2016 1 check-in Love love loved the atm...</td>\n",
              "      <td>5.0 star rating</td>\n",
              "    </tr>\n",
              "    <tr>\n",
              "      <th>1</th>\n",
              "      <td>The Factory - Cafe With a Soul</td>\n",
              "      <td>12/2/2016 Listed in Date Night: Austin, Ambia...</td>\n",
              "      <td>4.0 star rating</td>\n",
              "    </tr>\n",
              "    <tr>\n",
              "      <th>2</th>\n",
              "      <td>The Factory - Cafe With a Soul</td>\n",
              "      <td>11/30/2016 1 check-in Listed in Brunch Spots ...</td>\n",
              "      <td>4.0 star rating</td>\n",
              "    </tr>\n",
              "    <tr>\n",
              "      <th>3</th>\n",
              "      <td>The Factory - Cafe With a Soul</td>\n",
              "      <td>11/25/2016 Very cool decor! Good drinks Nice ...</td>\n",
              "      <td>2.0 star rating</td>\n",
              "    </tr>\n",
              "    <tr>\n",
              "      <th>4</th>\n",
              "      <td>The Factory - Cafe With a Soul</td>\n",
              "      <td>12/3/2016 1 check-in They are located within ...</td>\n",
              "      <td>4.0 star rating</td>\n",
              "    </tr>\n",
              "    <tr>\n",
              "      <th>5</th>\n",
              "      <td>The Factory - Cafe With a Soul</td>\n",
              "      <td>11/20/2016 1 check-in Very cute cafe! I think...</td>\n",
              "      <td>4.0 star rating</td>\n",
              "    </tr>\n",
              "    <tr>\n",
              "      <th>6</th>\n",
              "      <td>The Factory - Cafe With a Soul</td>\n",
              "      <td>10/27/2016 2 check-ins Listed in \"Nuptial Cof...</td>\n",
              "      <td>4.0 star rating</td>\n",
              "    </tr>\n",
              "    <tr>\n",
              "      <th>7</th>\n",
              "      <td>The Factory - Cafe With a Soul</td>\n",
              "      <td>11/2/2016 2 check-ins Love this place!  5 sta...</td>\n",
              "      <td>5.0 star rating</td>\n",
              "    </tr>\n",
              "    <tr>\n",
              "      <th>8</th>\n",
              "      <td>The Factory - Cafe With a Soul</td>\n",
              "      <td>10/25/2016 1 check-in Ok, let's try this appr...</td>\n",
              "      <td>3.0 star rating</td>\n",
              "    </tr>\n",
              "    <tr>\n",
              "      <th>9</th>\n",
              "      <td>The Factory - Cafe With a Soul</td>\n",
              "      <td>11/10/2016 3 check-ins This place has been sh...</td>\n",
              "      <td>5.0 star rating</td>\n",
              "    </tr>\n",
              "    <tr>\n",
              "      <th>10</th>\n",
              "      <td>The Factory - Cafe With a Soul</td>\n",
              "      <td>10/22/2016 1 check-in Listed in Americano Thi...</td>\n",
              "      <td>4.0 star rating</td>\n",
              "    </tr>\n",
              "    <tr>\n",
              "      <th>11</th>\n",
              "      <td>The Factory - Cafe With a Soul</td>\n",
              "      <td>11/20/2016 The store has A+ decoration, but h...</td>\n",
              "      <td>3.0 star rating</td>\n",
              "    </tr>\n",
              "    <tr>\n",
              "      <th>12</th>\n",
              "      <td>The Factory - Cafe With a Soul</td>\n",
              "      <td>11/17/2016 1 check-in Listed in 2016 - The Th...</td>\n",
              "      <td>3.0 star rating</td>\n",
              "    </tr>\n",
              "    <tr>\n",
              "      <th>13</th>\n",
              "      <td>The Factory - Cafe With a Soul</td>\n",
              "      <td>12/5/2016 This is such a cute little cafe! I'...</td>\n",
              "      <td>5.0 star rating</td>\n",
              "    </tr>\n",
              "    <tr>\n",
              "      <th>14</th>\n",
              "      <td>The Factory - Cafe With a Soul</td>\n",
              "      <td>11/13/2016 Beautiful eccentric coffee shop wi...</td>\n",
              "      <td>5.0 star rating</td>\n",
              "    </tr>\n",
              "    <tr>\n",
              "      <th>15</th>\n",
              "      <td>The Factory - Cafe With a Soul</td>\n",
              "      <td>11/9/2016 1 check-in Listed in In Search of F...</td>\n",
              "      <td>5.0 star rating</td>\n",
              "    </tr>\n",
              "    <tr>\n",
              "      <th>16</th>\n",
              "      <td>The Factory - Cafe With a Soul</td>\n",
              "      <td>11/6/2016 Really love the atmosphere here! I ...</td>\n",
              "      <td>5.0 star rating</td>\n",
              "    </tr>\n",
              "    <tr>\n",
              "      <th>17</th>\n",
              "      <td>The Factory - Cafe With a Soul</td>\n",
              "      <td>10/25/2016 1 check-in Check out this video fo...</td>\n",
              "      <td>4.0 star rating</td>\n",
              "    </tr>\n",
              "    <tr>\n",
              "      <th>18</th>\n",
              "      <td>The Factory - Cafe With a Soul</td>\n",
              "      <td>10/15/2016 1 check-in Note: Do not come here ...</td>\n",
              "      <td>4.0 star rating</td>\n",
              "    </tr>\n",
              "    <tr>\n",
              "      <th>19</th>\n",
              "      <td>The Factory - Cafe With a Soul</td>\n",
              "      <td>12/1/2016 So much aesthetic in this place. I ...</td>\n",
              "      <td>4.0 star rating</td>\n",
              "    </tr>\n",
              "    <tr>\n",
              "      <th>20</th>\n",
              "      <td>The Factory - Cafe With a Soul</td>\n",
              "      <td>10/12/2016 1 check-in Checked out The Factory...</td>\n",
              "      <td>5.0 star rating</td>\n",
              "    </tr>\n",
              "    <tr>\n",
              "      <th>21</th>\n",
              "      <td>The Factory - Cafe With a Soul</td>\n",
              "      <td>10/10/2016 This place is so cute. New favorit...</td>\n",
              "      <td>5.0 star rating</td>\n",
              "    </tr>\n",
              "    <tr>\n",
              "      <th>22</th>\n",
              "      <td>The Factory - Cafe With a Soul</td>\n",
              "      <td>10/25/2016 Tried this new cafe spot on Burnet...</td>\n",
              "      <td>4.0 star rating</td>\n",
              "    </tr>\n",
              "    <tr>\n",
              "      <th>23</th>\n",
              "      <td>The Factory - Cafe With a Soul</td>\n",
              "      <td>11/16/2016 The greeting of an atmosphere it f...</td>\n",
              "      <td>5.0 star rating</td>\n",
              "    </tr>\n",
              "    <tr>\n",
              "      <th>24</th>\n",
              "      <td>The Factory - Cafe With a Soul</td>\n",
              "      <td>11/17/2016 Craft coffee drinks, tea, and beer...</td>\n",
              "      <td>5.0 star rating</td>\n",
              "    </tr>\n",
              "    <tr>\n",
              "      <th>25</th>\n",
              "      <td>The Factory - Cafe With a Soul</td>\n",
              "      <td>12/2/2016 Okay, so after visiting my friends ...</td>\n",
              "      <td>1.0 star rating</td>\n",
              "    </tr>\n",
              "    <tr>\n",
              "      <th>26</th>\n",
              "      <td>The Factory - Cafe With a Soul</td>\n",
              "      <td>11/9/2016 1 check-in Guys, this place is amaz...</td>\n",
              "      <td>5.0 star rating</td>\n",
              "    </tr>\n",
              "    <tr>\n",
              "      <th>27</th>\n",
              "      <td>The Factory - Cafe With a Soul</td>\n",
              "      <td>12/2/2016 What a fantastic atmosphere. I drop...</td>\n",
              "      <td>5.0 star rating</td>\n",
              "    </tr>\n",
              "    <tr>\n",
              "      <th>28</th>\n",
              "      <td>The Factory - Cafe With a Soul</td>\n",
              "      <td>12/1/2016 This place is amazing! No wifi, but...</td>\n",
              "      <td>5.0 star rating</td>\n",
              "    </tr>\n",
              "    <tr>\n",
              "      <th>29</th>\n",
              "      <td>The Factory - Cafe With a Soul</td>\n",
              "      <td>11/11/2016 I never write Yelp reviews, ever. ...</td>\n",
              "      <td>5.0 star rating</td>\n",
              "    </tr>\n",
              "    <tr>\n",
              "      <th>30</th>\n",
              "      <td>The Factory - Cafe With a Soul</td>\n",
              "      <td>11/9/2016 Really cute and heavily hipster atm...</td>\n",
              "      <td>4.0 star rating</td>\n",
              "    </tr>\n",
              "    <tr>\n",
              "      <th>31</th>\n",
              "      <td>The Factory - Cafe With a Soul</td>\n",
              "      <td>10/13/2016 1 check-in I really enjoyed my vis...</td>\n",
              "      <td>5.0 star rating</td>\n",
              "    </tr>\n",
              "    <tr>\n",
              "      <th>32</th>\n",
              "      <td>The Factory - Cafe With a Soul</td>\n",
              "      <td>11/10/2016 7 check-ins The Factory Cafe is ov...</td>\n",
              "      <td>5.0 star rating</td>\n",
              "    </tr>\n",
              "    <tr>\n",
              "      <th>33</th>\n",
              "      <td>The Factory - Cafe With a Soul</td>\n",
              "      <td>11/23/2016 1 check-in My best friend and I ca...</td>\n",
              "      <td>3.0 star rating</td>\n",
              "    </tr>\n",
              "    <tr>\n",
              "      <th>34</th>\n",
              "      <td>The Factory - Cafe With a Soul</td>\n",
              "      <td>10/16/2016 My only complaint and desire and h...</td>\n",
              "      <td>5.0 star rating</td>\n",
              "    </tr>\n",
              "    <tr>\n",
              "      <th>35</th>\n",
              "      <td>The Factory - Cafe With a Soul</td>\n",
              "      <td>10/7/2016 1 check-in Came in on the first day...</td>\n",
              "      <td>5.0 star rating</td>\n",
              "    </tr>\n",
              "    <tr>\n",
              "      <th>36</th>\n",
              "      <td>The Factory - Cafe With a Soul</td>\n",
              "      <td>11/2/2016 Interesting new coffee place with a...</td>\n",
              "      <td>4.0 star rating</td>\n",
              "    </tr>\n",
              "    <tr>\n",
              "      <th>37</th>\n",
              "      <td>The Factory - Cafe With a Soul</td>\n",
              "      <td>10/15/2016 This place is really nice. They ha...</td>\n",
              "      <td>5.0 star rating</td>\n",
              "    </tr>\n",
              "    <tr>\n",
              "      <th>38</th>\n",
              "      <td>The Factory - Cafe With a Soul</td>\n",
              "      <td>10/18/2016 I got waffle wasted at The Factory...</td>\n",
              "      <td>5.0 star rating</td>\n",
              "    </tr>\n",
              "    <tr>\n",
              "      <th>39</th>\n",
              "      <td>The Factory - Cafe With a Soul</td>\n",
              "      <td>12/2/2016 A cafe that doesn't have Wifi but m...</td>\n",
              "      <td>1.0 star rating</td>\n",
              "    </tr>\n",
              "    <tr>\n",
              "      <th>40</th>\n",
              "      <td>The Factory - Cafe With a Soul</td>\n",
              "      <td>11/14/2016 Honestly, this place is having an ...</td>\n",
              "      <td>2.0 star rating</td>\n",
              "    </tr>\n",
              "    <tr>\n",
              "      <th>41</th>\n",
              "      <td>The Factory - Cafe With a Soul</td>\n",
              "      <td>10/7/2016 1 check-in Marymint Monroe  + Chick...</td>\n",
              "      <td>5.0 star rating</td>\n",
              "    </tr>\n",
              "    <tr>\n",
              "      <th>42</th>\n",
              "      <td>The Factory - Cafe With a Soul</td>\n",
              "      <td>11/22/2016 Cute, eclectic furniture and lots ...</td>\n",
              "      <td>5.0 star rating</td>\n",
              "    </tr>\n",
              "    <tr>\n",
              "      <th>43</th>\n",
              "      <td>The Factory - Cafe With a Soul</td>\n",
              "      <td>11/21/2016 1 check-in This place is fantastic...</td>\n",
              "      <td>5.0 star rating</td>\n",
              "    </tr>\n",
              "    <tr>\n",
              "      <th>44</th>\n",
              "      <td>The Factory - Cafe With a Soul</td>\n",
              "      <td>11/14/2016 Enthusiastic and earnest desire to...</td>\n",
              "      <td>5.0 star rating</td>\n",
              "    </tr>\n",
              "    <tr>\n",
              "      <th>45</th>\n",
              "      <td>The Factory - Cafe With a Soul</td>\n",
              "      <td>10/13/2016 The factory is gonna be my new cof...</td>\n",
              "      <td>5.0 star rating</td>\n",
              "    </tr>\n",
              "    <tr>\n",
              "      <th>46</th>\n",
              "      <td>The Factory - Cafe With a Soul</td>\n",
              "      <td>11/2/2016 I was so pleasantly surprised by th...</td>\n",
              "      <td>5.0 star rating</td>\n",
              "    </tr>\n",
              "    <tr>\n",
              "      <th>47</th>\n",
              "      <td>The Factory - Cafe With a Soul</td>\n",
              "      <td>11/30/2016 Love this place. I really apprecia...</td>\n",
              "      <td>5.0 star rating</td>\n",
              "    </tr>\n",
              "    <tr>\n",
              "      <th>48</th>\n",
              "      <td>The Factory - Cafe With a Soul</td>\n",
              "      <td>11/26/2016 1 check-in I love the deco a lot, ...</td>\n",
              "      <td>3.0 star rating</td>\n",
              "    </tr>\n",
              "    <tr>\n",
              "      <th>49</th>\n",
              "      <td>The Factory - Cafe With a Soul</td>\n",
              "      <td>11/12/2016 Great coffee, food and atmosphere!...</td>\n",
              "      <td>5.0 star rating</td>\n",
              "    </tr>\n",
              "  </tbody>\n",
              "</table>\n",
              "</div>"
            ],
            "text/plain": [
              "                   coffee_shop_name  ...        star_rating\n",
              "0   The Factory - Cafe With a Soul   ...   5.0 star rating \n",
              "1   The Factory - Cafe With a Soul   ...   4.0 star rating \n",
              "2   The Factory - Cafe With a Soul   ...   4.0 star rating \n",
              "3   The Factory - Cafe With a Soul   ...   2.0 star rating \n",
              "4   The Factory - Cafe With a Soul   ...   4.0 star rating \n",
              "5   The Factory - Cafe With a Soul   ...   4.0 star rating \n",
              "6   The Factory - Cafe With a Soul   ...   4.0 star rating \n",
              "7   The Factory - Cafe With a Soul   ...   5.0 star rating \n",
              "8   The Factory - Cafe With a Soul   ...   3.0 star rating \n",
              "9   The Factory - Cafe With a Soul   ...   5.0 star rating \n",
              "10  The Factory - Cafe With a Soul   ...   4.0 star rating \n",
              "11  The Factory - Cafe With a Soul   ...   3.0 star rating \n",
              "12  The Factory - Cafe With a Soul   ...   3.0 star rating \n",
              "13  The Factory - Cafe With a Soul   ...   5.0 star rating \n",
              "14  The Factory - Cafe With a Soul   ...   5.0 star rating \n",
              "15  The Factory - Cafe With a Soul   ...   5.0 star rating \n",
              "16  The Factory - Cafe With a Soul   ...   5.0 star rating \n",
              "17  The Factory - Cafe With a Soul   ...   4.0 star rating \n",
              "18  The Factory - Cafe With a Soul   ...   4.0 star rating \n",
              "19  The Factory - Cafe With a Soul   ...   4.0 star rating \n",
              "20  The Factory - Cafe With a Soul   ...   5.0 star rating \n",
              "21  The Factory - Cafe With a Soul   ...   5.0 star rating \n",
              "22  The Factory - Cafe With a Soul   ...   4.0 star rating \n",
              "23  The Factory - Cafe With a Soul   ...   5.0 star rating \n",
              "24  The Factory - Cafe With a Soul   ...   5.0 star rating \n",
              "25  The Factory - Cafe With a Soul   ...   1.0 star rating \n",
              "26  The Factory - Cafe With a Soul   ...   5.0 star rating \n",
              "27  The Factory - Cafe With a Soul   ...   5.0 star rating \n",
              "28  The Factory - Cafe With a Soul   ...   5.0 star rating \n",
              "29  The Factory - Cafe With a Soul   ...   5.0 star rating \n",
              "30  The Factory - Cafe With a Soul   ...   4.0 star rating \n",
              "31  The Factory - Cafe With a Soul   ...   5.0 star rating \n",
              "32  The Factory - Cafe With a Soul   ...   5.0 star rating \n",
              "33  The Factory - Cafe With a Soul   ...   3.0 star rating \n",
              "34  The Factory - Cafe With a Soul   ...   5.0 star rating \n",
              "35  The Factory - Cafe With a Soul   ...   5.0 star rating \n",
              "36  The Factory - Cafe With a Soul   ...   4.0 star rating \n",
              "37  The Factory - Cafe With a Soul   ...   5.0 star rating \n",
              "38  The Factory - Cafe With a Soul   ...   5.0 star rating \n",
              "39  The Factory - Cafe With a Soul   ...   1.0 star rating \n",
              "40  The Factory - Cafe With a Soul   ...   2.0 star rating \n",
              "41  The Factory - Cafe With a Soul   ...   5.0 star rating \n",
              "42  The Factory - Cafe With a Soul   ...   5.0 star rating \n",
              "43  The Factory - Cafe With a Soul   ...   5.0 star rating \n",
              "44  The Factory - Cafe With a Soul   ...   5.0 star rating \n",
              "45  The Factory - Cafe With a Soul   ...   5.0 star rating \n",
              "46  The Factory - Cafe With a Soul   ...   5.0 star rating \n",
              "47  The Factory - Cafe With a Soul   ...   5.0 star rating \n",
              "48  The Factory - Cafe With a Soul   ...   3.0 star rating \n",
              "49  The Factory - Cafe With a Soul   ...   5.0 star rating \n",
              "\n",
              "[50 rows x 3 columns]"
            ]
          },
          "metadata": {
            "tags": []
          },
          "execution_count": 17
        }
      ]
    },
    {
      "cell_type": "code",
      "metadata": {
        "id": "yYsGf9MYrTuc",
        "colab_type": "code",
        "colab": {
          "base_uri": "https://localhost:8080/",
          "height": 904
        },
        "outputId": "03d8a748-8e34-41ea-cf4c-94e63ce1a188"
      },
      "source": [
        "shop['full_review_text'][:50].value_counts()"
      ],
      "execution_count": 31,
      "outputs": [
        {
          "output_type": "execute_result",
          "data": {
            "text/plain": [
              " 11/11/2016 I never write Yelp reviews, ever. But when I walked in here it felt like I was in a hipster Alice in wonderland. The decor is spot on and they left no details out. The Marymint Monroe is really amazing and the chicken and waffle is really good. The staff is so wonderful too, you could tell they really love what they're doing. The swings are a nice touch too!                                                                                                                                                                                                                                                                                                                                                                                                                                                                                                                                                                                                                                                                                                                                                                                                                                                                                                                                                                                                                                                                                                                                                                                                                                                                                                                                                                                                                                                                                                                                                     1\n",
              " 12/2/2016 Okay, so after visiting my friends in LA and trying a mint mojito iced coffee, I had to find one in Austin that's comparable. It was getting very difficult to find one to begin with, let alone a good one. I saw the mint coffee on the factory's website and had to try it. Unfortunately I was shell-shocked at the price tag ($7 if I remember correctly??)  I figured it would be a large drink and particularly fabulous and hopefully large to make up for the over the top price (this is $3 more than philz)   Was it particularly fabulous? No. It was good, it wasn't as good as philz. Was it bigger?? No. It was about 4 ounces of  coffee, tops. Will I be back? Absolutely not, especially considering I can get a 20 oz mint mojito coffee from tea haus for $3 less that tastes just as good.  This place is also self service (for ordering and pick up), why that would lead to inflated prices and not a price decrease is far beyond my understanding. I don't recommend it.                                                                                                                                                                                                                                                                                                                                                                                                                                                                                                                                                                                                                                                                                                                                                                                                                                                                                                                            1\n",
              " 12/2/2016 A cafe that doesn't have Wifi but makes you order from an iPad. Seriously? $2 extra for almond milk?! The latte was already $5 for 12 oz. Don't expect to have a lot of Vegan customers. There's a serious lack of customer service for the  overpriced food and beverages.  You order from an iPad, and they call out your drink. There is no interaction between the customer and employee, and they still expect a tip? This cafe also advertises that they have games. There are two games, chess and tick tax toe. It is a beautiful cafe, with very cool furnishings. However I wont be going back.                                                                                                                                                                                                                                                                                                                                                                                                                                                                                                                                                                                                                                                                                                                                                                                                                                                                                                                                                                                                                                                                                                                                                                                                                                                                                                                     1\n",
              " 10/7/2016 1 check-in Marymint Monroe  + Chicken and waffles samich = my favorite cafe in Austin.  ... Ohhh and decor is pretty sweet too                                                                                                                                                                                                                                                                                                                                                                                                                                                                                                                                                                                                                                                                                                                                                                                                                                                                                                                                                                                                                                                                                                                                                                                                                                                                                                                                                                                                                                                                                                                                                                                                                                                                                                                                                                                                1\n",
              " 11/9/2016 1 check-in Guys, this place is amazing. Limited food menu but both waffle offerings will blow you away! Crazy good spices on the chicken. The coffee and matcha were both stellar as well. Service was friendly and efficient. The space is stunning and cozy. Highly recommend. Will be my new go-to relaxation spot in the area.                                                                                                                                                                                                                                                                                                                                                                                                                                                                                                                                                                                                                                                                                                                                                                                                                                                                                                                                                                                                                                                                                                                                                                                                                                                                                                                                                                                                                                                                                                                                                                                            1\n",
              " 11/26/2016 1 check-in I love the deco a lot, it's a really good place to chill, it's modern, unique and appreciate the aesthetics, so I give that 5 stars, but the coffee was really disappointing. I ordered a coffee and it was a lot smaller than the picture on the menu and it was really expensive. It didn't taste good either. Other than there being no outlets and expensive coffee, this place is great.                                                                                                                                                                                                                                                                                                                                                                                                                                                                                                                                                                                                                                                                                                                                                                                                                                                                                                                                                                                                                                                                                                                                                                                                                                                                                                                                                                                                                                                                                                                     1\n",
              " 11/17/2016 Craft coffee drinks, tea, and beer/wine. Friendly staff, good music and nice atmosphere complete with with a few rope swings from he ceiling. And let's not forget the amazing waffles!! Nice place to chill with friends.                                                                                                                                                                                                                                                                                                                                                                                                                                                                                                                                                                                                                                                                                                                                                                                                                                                                                                                                                                                                                                                                                                                                                                                                                                                                                                                                                                                                                                                                                                                                                                                                                                                                                                   1\n",
              " 11/10/2016 3 check-ins This place has been shown on my social media for days so i finally visited! One of THE cutest and artistic looking coffeeshops I have ever visited. You can self order which is nice because you can take your time and look at the pictures to help you decide! I especially liked how pictures were shown so I knew which coffee/tea came out aesthetically  I ordered the famous matcha green latte and i dont usually drink coffee but it went beyond my expectations. They give you a good amount and its creamy and sweet. Only downside is no wifi.. So hard to study here. Matcha green tea and living la vida mocha Matcha green tea latte Interior design See all photos from Sarah L. for The Factory - Cafe With a Soul                                                                                                                                                                                                                                                                                                                                                                                                                                                                                                                                                                                                                                                                                                                                                                                                                                                                                                                                                                                                                                                                                                                                                                              1\n",
              " 11/30/2016 Love this place. I really appreciate the lack of wifi. Makes it much easier to have good conversations or lose yourself in a good book. Agree that it's a bit pricey, but the drinks are really good.                                                                                                                                                                                                                                                                                                                                                                                                                                                                                                                                                                                                                                                                                                                                                                                                                                                                                                                                                                                                                                                                                                                                                                                                                                                                                                                                                                                                                                                                                                                                                                                                                                                                                                                        1\n",
              " 10/22/2016 1 check-in Listed in Americano This is not your average cute study spot cafe.  Location/ Atmosphere: + Easy parking at the lot + Cute and classy interior decor! + Plenty of seats available (couches, swings, high chairs, etc) + Games like chess & tic tac toe available - No sign of outlets/ charging port on the walls - No wifi available - Not a study cafe unless you have all your papers printed out and don't need the internet  Service: o You order by yourself using an iPad up at the counter. + There are 3 iPads available making lines go by faster. + You can request them to text you upon your order being ready + When I told one of the baristas that the fork bin was empty, he kindly brought it over to our table along with a couple of knives! - There was no option to make drinks half sweetened/ less ice on the iPad screen :\"(  Food/ Prices: + Highly recommend the Matcha Latte (it was thick and made to perfection!) + The chicken and waffle was well seasoned! + Aesthetically super cute - I didn't enjoy the Milk Tea as much (It was way too sweet for me and had a super unique taste to it.) - Snack size portions, $$ Price tag of a Meal - The sides of corn/ coleslaw came out in a tiny cup - It was ~$7 for a cup of milk tea and ~$8 for the snack sized Chicken and Waffle - We were still pretty hungry after and even considered driving over to Tarka for some real food.  I'd come here again to socialize (when I'm less busy with schoolwork) but really only for the Matcha Latte & the classy atmosphere. If you haven't had lunch/ dinner, don't come here to fill your tummy up :\"o Matcha latte, Chicken & Waffle, Nutella Waffle, and Hot milk tea Matcha latte, Chicken & Waffle, Nutella Waffle, and Hot milk tea                                                                                                                                          1\n",
              " 10/15/2016 This place is really nice. They have done a great job... It's the type of place that you could spend hours in. They have a small menu right now, but their drinks, waffles, and pastries are really well made. We'll definitely be coming back soon.... like tomorrow. Viva Matcha Latte and Pop-art                                                                                                                                                                                                                                                                                                                                                                                                                                                                                                                                                                                                                                                                                                                                                                                                                                                                                                                                                                                                                                                                                                                                                                                                                                                                                                                                                                                                                                                                                                                                                                                                                         1\n",
              " 11/22/2016 Cute, eclectic furniture and lots of things to do! Gorgeous seating vignettes, lots of space, classy decor. Only thing to watch out for--no wifi...not really a place to do work or study, but great place to chill! My friends and I (6 of us total) found space to play a board game, and had a blast!                                                                                                                                                                                                                                                                                                                                                                                                                                                                                                                                                                                                                                                                                                                                                                                                                                                                                                                                                                                                                                                                                                                                                                                                                                                                                                                                                                                                                                                                                                                                                                                                                     1\n",
              " 10/25/2016 1 check-in Ok, let's try this approach...  Pros: Music Seating Decor General ambiance Service  Cons: iPad ordering (I'm a crotchety old man, kids) Limited coffee menu, or menu in general Relatively expensive Food is pretty but lackluster  I'm still sitting here as I type this and I'm less than overjoyed with the experience, sadly. The space and vibe are great but not quite familiar or intimate enough to beat out a place like Genuine Joe down the street. It seems like they bank on the vibe, and fall short the rest of the way. (This would be a great hangout for the artsy/design crowd having a collaborative meeting.)  The staff is great but the iPad ordering system limits your required interaction with them. They take pride in no wifi to increase interaction but then use iPads instead of people?  Seating is ample, if cramped in a surprisingly large space.  But the food, kids. So pretty, but again lackluster. I tried the Pop+art ($5) and the Nutella Waffle ($4.75) and they both sit on their respective tiny awkward plates half eaten. (Yes the plate liners are cute) The waffle is a great idea but the waffle itself  has no flavor and there's no delight. The tart is similar - the pastry crust is much too thick compared to the Smuckers jam tasting filling and it is essentially just pure sugar. The pastry itself doesn't even taste buttery or crisp. Meh. There appears to be no soul in this confectionary.  Coffee- passable. But at $4 for a cortado and a $1.50 up-charge for almond milk- I'll pick another place.  I get why the reviews are so good here, but there are much better places nearby for that \"cafe with a soul\" feel. This feels like an ACL pop-up. Going for that?  Great, come here. Pop+art and Cortado Emailed receipt and satisfaction survey. See all photos from Kimberlee A. for The Factory - Cafe With a Soul                    1\n",
              " 11/20/2016 1 check-in Very cute cafe! I think from the moment I stepped in, there really wasn't anything I didn't find cute at The Factory. From their decor to their cups, everything was really cute. It's really the perfect place for a catching up with friends or a coffee date.  When you go order, there's really the least amount of interaction ever with the workers. You just pick your order on an iPad and they'll call your order out after for you to pick up at the counter. The whole thing's pretty novel honestly. I got the Viva Matcha Latte and it was so good! Perfect amount of sweetness and perfect temperature. I went on a cold night and this cafe is just so cozy, it was such a great combination. They have these swings as well which were pretty fun to sit on honestly.  Prices are what I would expect for a cafe like this, not super cheap, but not too pricey. There's no wifi here, so if you want to study, maybe this isn't the right place. But overall, very nice atmosphere! Viva matcha latte and Cortado                                                                                                                                                                                                                                                                                                                                                                                                                                                                                                                                                                                                                                                                                                                                                                                                                                                                                1\n",
              " 12/1/2016 This place is amazing! No wifi, but that's fine. it's meant to be a place to hang out with friends, socialize or by yourself reading a good book!                                                                                                                                                                                                                                                                                                                                                                                                                                                                                                                                                                                                                                                                                                                                                                                                                                                                                                                                                                                                                                                                                                                                                                                                                                                                                                                                                                                                                                                                                                                                                                                                                                                                                                                                                                             1\n",
              " 11/6/2016 Really love the atmosphere here! I frequent coffee shops and this one is definitely unique and worth checking out.  Pros: great atmosphere Friendly staff Good hangout/ study environment Beautiful lighting Tasty drinks  Cons: no wifi Slightly pricey Pretty things Love all the details here. It just has good vibes. Definitely the perfect cafe atmosphere. See all photos from Sierra L. for The Factory - Cafe With a Soul                                                                                                                                                                                                                                                                                                                                                                                                                                                                                                                                                                                                                                                                                                                                                                                                                                                                                                                                                                                                                                                                                                                                                                                                                                                                                                                                                                                                                                                                                            1\n",
              " 11/9/2016 Really cute and heavily hipster atmosphere. We tried this place late night on Saturday and enjoyed the first visit. You will want to try their swing for sure. Seating space is somewhat limited and no wifi is available, so be aware. This is more like a place for you to enjoy its atmosphere. Drinks were good, though make sure you have enough in your bank account because their drinks are probably not for broke college students. That swing!                                                                                                                                                                                                                                                                                                                                                                                                                                                                                                                                                                                                                                                                                                                                                                                                                                                                                                                                                                                                                                                                                                                                                                                                                                                                                                                                                                                                                                                                      1\n",
              " 11/2/2016 Interesting new coffee place with a vibe that blends posh, hipster, and comfy.  Medium roasted beans have a milder, sweeter flavor than your typical Starbucks espresso shot, so be aware that the coffee tastes less bitter but packs more of a caffeine punch!  This place has homemade pop tarts!                                                                                                                                                                                                                                                                                                                                                                                                                                                                                                                                                                                                                                                                                                                                                                                                                                                                                                                                                                                                                                                                                                                                                                                                                                                                                                                                                                                                                                                                                                                                                                                                                          1\n",
              " 11/13/2016 Beautiful eccentric coffee shop with a library of peculiar books.  Swings, couches, and pillow corners for cuddle puddles.  Coffee with mint and ways you've never imagined coffee could be made. Try the matcha green tea with soy, creamiest matcha I've ever had.  First time here and already my favorite coffee bar so far. See all photos from Vicki Y. for The Factory - Cafe With a Soul                                                                                                                                                                                                                                                                                                                                                                                                                                                                                                                                                                                                                                                                                                                                                                                                                                                                                                                                                                                                                                                                                                                                                                                                                                                                                                                                                                                                                                                                                                                             1\n",
              " 10/13/2016 1 check-in I really enjoyed my visit here. I ordered the cortado and chicken waffle. Both were excellent.  The space is very Instagram worthy.  Awesome mural. Staff was very friendly too and I loved the iPad ordering system. Chicken waffle and cortado paired with sparkling water to cleanse the palate                                                                                                                                                                                                                                                                                                                                                                                                                                                                                                                                                                                                                                                                                                                                                                                                                                                                                                                                                                                                                                                                                                                                                                                                                                                                                                                                                                                                                                                                                                                                                                                                                1\n",
              " 12/1/2016 So much aesthetic in this place. I love every corner of this coffee shop. The only downside is there's no wifi. Their matcha latte is to die for! See all photos from Rojean S. for The Factory - Cafe With a Soul                                                                                                                                                                                                                                                                                                                                                                                                                                                                                                                                                                                                                                                                                                                                                                                                                                                                                                                                                                                                                                                                                                                                                                                                                                                                                                                                                                                                                                                                                                                                                                                                                                                                                                            1\n",
              " 11/2/2016 I was so pleasantly surprised by this place! I only went because I had time to kill and they were the only coffee shop nearby open until 2 am. But I'm so glad I tried it out. It's not your typical Austin coffee shop. The quality of the drinks here was top notch, and they offer unique food and drinks. I had the macha latte (I think that's what it was called) and it was fantastic! The people were so friendly, the decor was beautiful, with plenty of comfortable seating (including swings from the ceiling!), and it was just the perfect place to chill with friends. I'll definitely be coming back!                                                                                                                                                                                                                                                                                                                                                                                                                                                                                                                                                                                                                                                                                                                                                                                                                                                                                                                                                                                                                                                                                                                                                                                                                                                                                                         1\n",
              " 12/5/2016 This is such a cute little cafe! I've driven by this place many times and hadn't noticed it until today. Glad I stopped-the famous chicken waffle was delish!                                                                                                                                                                                                                                                                                                                                                                                                                                                                                                                                                                                                                                                                                                                                                                                                                                                                                                                                                                                                                                                                                                                                                                                                                                                                                                                                                                                                                                                                                                                                                                                                                                                                                                                                                                 1\n",
              " 11/14/2016 Honestly, this place is having an identity crisis. Not a great place for a date or to meet a friend - very cute decor (props to the designer), but music is a bit all over the place, and for the price I would go somewhere else. Not really a family place, at least not for all families since bathrooms have framed art of sexual positions. Lights get turned down around 9pm (but they stay open till 2), so if you wanted to stop by to get a bit of reading done, you're out of luck. It is also not a beer/coffee lounge like Thunderbird. Menu is very limited, and if you were in the mood for a treat, I'd recommend Quacks. If they wanted to expand the menu, ipad ordering would have to go.  Which is sad since it's very cute, and we need more chill places to hang out in the evenings away from the University area.  Matcha was good. I hope the owners will rethink their direction. Would I come back? Eeh, too many other treats to entice my attention.                                                                                                                                                                                                                                                                                                                                                                                                                                                                                                                                                                                                                                                                                                                                                                                                                                                                                                                                             1\n",
              " 11/10/2016 7 check-ins The Factory Cafe is overall such a beautiful and really cool place to just hang out with friends or work on homework. You'll probably see the people around you taking the time to perfect their aesthetic Instagram pictures and Snapchat stories (myself included). Although the cafe itself doesn't provide wifi, it's within range of other places with wifi so that shouldn't deter you from going! This place looks like it literally came straight off of Pinterest! So cute!                                                                                                                                                                                                                                                                                                                                                                                                                                                                                                                                                                                                                                                                                                                                                                                                                                                                                                                                                                                                                                                                                                                                                                                                                                                                                                                                                                                                                             1\n",
              " 11/30/2016 1 check-in Listed in Brunch Spots I loved the eclectic and homey plush decor and who doesn't want to swing and drink their coffee?  I would categorize this as a pricier coffee place but, to me it was worth it.  After Thanksgiving nobody wants to make brunch so we headed out in search of chicken and waffles.  There is ample parking in the private lot and  ordering is done through I-Pads.  Pick a seat and they will call your name when your items are ready.  Be patient because some of the coffee drinks take longer than others.  I had the cold brew coffee, chicken and waffles and we shared a pop+art!  The po+art was strawberry; light and fluffy on the outside and gooey sweet filling on the inside.  The chicken and waffles wasn't the standard so expect different, complex and interesting flavors from the accompanying slaw and sauce.  I thoroughly enjoyed it but, the waffle was a bit bland and maybe could have used a bit of honey to spruce it up.  The coffee here is spot on and I hear that their hot chocolate is the bomb but, I will have to wait for the weather to cool off to try that.  A great place to be cozy and chat with your friends, a date or read a book. Chicken and waffles Pop tart Coffee See all photos from Carmela S. for The Factory - Cafe With a Soul                                                                                                                                                                                                                                                                                                                                                                                                                                                                                                                                                                                                   1\n",
              " 11/16/2016 The greeting of an atmosphere it feels I created. This place speaks to my free spirited soul, with matcha lattes, swings inside that still fit in, pillows, and waffles. This might be the next artist home where computers aren't encouraged by the architecture, but books, talking and chess are. Matcha latte with lactose free milk and house book                                                                                                                                                                                                                                                                                                                                                                                                                                                                                                                                                                                                                                                                                                                                                                                                                                                                                                                                                                                                                                                                                                                                                                                                                                                                                                                                                                                                                                                                                                                                                                      1\n",
              " 11/25/2016 Very cool decor! Good drinks Nice seating  However...  Just about everything is overpriced. $1.50 extra for 3 ounces of Almond Milk in a cortado. No WiFi Music is a bit loud and the mix is odd.  Pleasant French oldies followed by loud techno. Several tables were dirty when we got there. Service is average.  It feels like a Los Angeles coffee shot that is out of place.                                                                                                                                                                                                                                                                                                                                                                                                                                                                                                                                                                                                                                                                                                                                                                                                                                                                                                                                                                                                                                                                                                                                                                                                                                                                                                                                                                                                                                                                                                                                           1\n",
              " 10/12/2016 1 check-in Checked out The Factory this past Sunday with my husband. We wanted to try their delicious looking waffles and were definitely not disappointed.  Husband ordered an iced coffee drink that was delicious, but it wasn't as good as my Golden Age of Milk Tea, well worth the 10 minute wait for the tea to steep.  We both ordered the Nutella Waffle and it was perfect. From the wood plate with the AMAZING paper liner printed with a famous person and an inspirational quote from them. I wanted just the paper because it was so cute and well done. The waffle is basically half a waffle, spread with Nutella and a layer of bananas, then folded in half. While small, it was a perfect amount, the bananas balancing out the sweetness of the Nutella. The waffle itself was crisp perfection, providing a crunch to the meal. The menu is very limited: there was the nutella waffle and a fried chicken waffle. I'm hoping they'll eventually serve other waffles, but totally respect their decision to start small.  The space is gorgeous. From the swings to the mural above the bar, everything looks meticulously planned out. And here is where my biggest advice comes: this place is really not for kids. The way the seating is set up is really for larger people and there is definitely no place for high chairs. While there is giant magnetic poetry on one of the columns, a crazy chair outside and a couple of table games, the giant chess set looks risky for grabby kids. If you have a well-behaved child who can handle it, I would think its fine. However, I watched several families come in and either leave or order to go, commenting it wasn't the best space for them. While this doesn't bother me (I love kidless spaces), it might be jarring to someone expecting to have brunch with the family.  I am so excited to become a regular here! Great new spot!     1\n",
              " 10/10/2016 This place is so cute. New favorite coffee spot on Burnet/in Northcross. Almost wish I was still in grad school,  so I would have an excuse to be there everyday.  Amazing coffee and best chicken & waffles ever! The chicken was seasoned perfectly and made for a delicious savory brunch (with the house made slaw they give you on the side). The olive oil cake was also awesome, light and sweet. Perfect coffee companion. My husband and I will definitely be back, as we loved everything and felt it was all very reasonable priced. Olive oil cake, chicken & waffle and 15-minutes-of-fame coffee! So good.                                                                                                                                                                                                                                                                                                                                                                                                                                                                                                                                                                                                                                                                                                                                                                                                                                                                                                                                                                                                                                                                                                                                                                                                                                                                                                     1\n",
              " 11/9/2016 1 check-in Listed in In Search of Fantastic Coffee So, I really didn't want to write this review. I didn't want to tell anyone how awesome The Factory - Cafe With a Soul is because I don't want it overrun and super busy with no place to sit like so many other decent coffee shops in Austin. I happened to come in here with a friend mid-week and we sat here for several hours, enjoying the peace and quiet, the atmosphere, and the awesome coffee.  This place is a little eclectic - lots of peculiar art, books, games, knick-knacks, and an almost head-scratching drink and food menu. Waffles and pop tarts...and beer? And... coffee mojitos? Well, it works. Whatever is going on here, it works fabulously. They serve Stumptown Coffee, which as someone from the Northwest, I totally appreciate. They also brew coffee correctly. There is not a hint of bitterness or overcooked milk going on here. The iPad ordering screens are mostly cool, (although they need more options for customization) and the million different types of seating, (couches, pillows, swings, big chairs, little chairs, bar seating, regular tables) is both delightful and refreshing. The baristas make foam art - something that I have only seen at Houndstooth here in Austin. Hanging out here was a wonderful experience - this is a five star establishment, the best coffee house I've been to in Austin, and I will be back - time and time again. Double espresso with tonic water. Beautiful Macha A beary lovely mocha!                                                                                                                                                                                                                                                                                                                                                                                     1\n",
              " 12/2/2016 What a fantastic atmosphere. I dropped in to catch up on some work and found a fantastic atmosphere and a great staff. I wish I could work here every day. I had the Darling pour-over and olive bread, and camped out near the pop-art fabric fire in the fireplace nook. Wallace (owner) and his team were spot-on with service and help. Full disclosure: The place is so beautiful on the inside that I Instagrammed it - couldn't help it, I claimed it for my own, like dozens of other folks. Highly recommended, so get here when you can!                                                                                                                                                                                                                                                                                                                                                                                                                                                                                                                                                                                                                                                                                                                                                                                                                                                                                                                                                                                                                                                                                                                                                                                                                                                                                                                                                                            1\n",
              " 10/18/2016 I got waffle wasted at The Factory!!! Not your average coffee shop! Super social without wifi, novel idea!                                                                                                                                                                                                                                                                                                                                                                                                                                                                                                                                                                                                                                                                                                                                                                                                                                                                                                                                                                                                                                                                                                                                                                                                                                                                                                                                                                                                                                                                                                                                                                                                                                                                                                                                                                                                                   1\n",
              " 10/25/2016 Tried this new cafe spot on Burnet with a friend - unassuming storefront, the decor is quaint af and you have to order from iPads at the counter and then choose a place to sit.  Not a brunch spot as we had thought, just a cafe with a couple of food options. The Nutella waffles we got were on point - there's also a chicken option.  The cold brew coffee was fantastic and my friend's milk tea turned out great too.  Good spot for conversations. Only knocking down a star for the limited options. I hope they add more items to the menu! Milk tea - humongous!! Nutella banana waffles Love the illustrations! See all photos from Ramya B. for The Factory - Cafe With a Soul                                                                                                                                                                                                                                                                                                                                                                                                                                                                                                                                                                                                                                                                                                                                                                                                                                                                                                                                                                                                                                                                                                                                                                                                                                1\n",
              " 10/7/2016 1 check-in Came in on the first day of opening, hours currently 6am-2pm. At some point they'll stay open till 12 midnight. I think this might be the most beautiful cafe in Austin, the interior is charming, snazzy, cozy. There's even a pair of swings to sit on while you enjoy your coffee and play a game of chess. I ordered the Marymint Monroe, basically a mint mojito. It's been a while since I've been to Philz coffee so it's hard to compare, but I think the Marymint is a little creamier. Also had the banana nutella waffle, bananas and nutella are always a winning combination, can't go wrong there. No wifi yet but I'm sure it will come soon. Friendly staff, delicious offerings, antique filament lightbulbs and best of all, Bieber and MJ high above on a mural watching over you. This place is aces. Golden age of milk tea See all photos from Khang H. for The Factory - Cafe With a Soul                                                                                                                                                                                                                                                                                                                                                                                                                                                                                                                                                                                                                                                                                                                                                                                                                                                                                                                                                                                                   1\n",
              " 10/27/2016 2 check-ins Listed in \"Nuptial Coffee Bliss!\", Anderson Lane is the new Black Oh hey, the pro vs con format. I've never used that before. Let's try it:  Pros: 1. This place is cooler than I thought. 2. It's open until 2am. No, really. 3. They have beer & wine. I didn't know that until I saw the beer taps. They offered me a sample.  Cons: 1. If you have to describe The Factory with one word, it probably won't be \"inexpensive.\"  I don't think they're shooting for the \"Sixth Coffeehouse on Anderson Lane but with Flash\" title here, I think they really want to be the official bistro in the neighborhood - far more casual than Bartlett or Hopdoddy, but with a lot more flair than Tea Haus or Starbuck Evenings. Staying open until 2am is a good start, and let's see if they add more to the menu. Remember, no one thought that gentrified Walmart would do well either.  In the meantime, have fun with those chicken & waffles, and their colorful matcha-infused coffees. I'm only interested in straight black, and their pourover Stumptown is great stuff. Try the $5 pop tart at least once, mainly because you can. And then let's meet back here in a couple of weeks, just to see what's been tweaked. This place defines hipster man-cave. I liked the long table with 1/2 bar chairs & stools, & the cool plates & cups. There's a $5 pop tart.                                                                                                                                                                                                                                                                                                                                                                                                                                                                                                                                        1\n",
              " 11/20/2016 The store has A+ decoration, but honestly, the coffee it made is not as good as other coffee shop in the surrounding area. It has no wifi, so good for hang out with friend or read a book. Not sure why there is no restroom here. Ordering app is well made, but probably won't be my coffee stop because of the quality of food/coffee. It's selling you the atmosphere they created, so don't expected the food/coffee. Probably would be a good date spot. 8 dollar tiny chicken and waffle. One of the most expensive chicken and waffle.                                                                                                                                                                                                                                                                                                                                                                                                                                                                                                                                                                                                                                                                                                                                                                                                                                                                                                                                                                                                                                                                                                                                                                                                                                                                                                                                                                              1\n",
              " 10/16/2016 My only complaint and desire and heart wish is for this place to be open longer and to allow for Wifi. This place makes my heart happy, it motivates me to study because I want to come here, and it makes me wish I had time to settle and read a wonderful book. The atmosphere is PERFECT, the workers are GENEROUS AND KIND, it's a beautiful place to be.                                                                                                                                                                                                                                                                                                                                                                                                                                                                                                                                                                                                                                                                                                                                                                                                                                                                                                                                                                                                                                                                                                                                                                                                                                                                                                                                                                                                                                                                                                                                                               1\n",
              " 11/17/2016 1 check-in Listed in 2016 - The Third Time is a Charm! The Factory has A+ decor and a very innovative interactionless (tablet) ordering system. This allows you to look up what to get without feeling pressured by a barista staring at you waiting for you to order. The eclectic selection of tables, couches, and swings (?!) inside with a small kiddy corner appeal to many different types of tastes. This is seriously a cool place to hang out.  However, when it comes to the coffee and food, it's rather not cheap. The waffles range from $4-$8, and coffee is between $3.50 and $5. The quality of the coffee is not yet up to par with other coffee mainstays in Austin, so I would probably not choose to come here just for coffee. However, it is a CUTE date place and I know that M and I will probably come back to chat, people-watch, or read books.                                                                                                                                                                                                                                                                                                                                                                                                                                                                                                                                                                                                                                                                                                                                                                                                                                                                                                                                                                                                                                                  1\n",
              " 12/2/2016 Listed in Date Night: Austin, Ambiance in Austin BEAUTIFUL!!!! Love the ambiance! Instagram-worthy!!!  Definitely $$$, so be prepared. This is gonna cost you a pretty penny :) Waffle dessert was just decent...nothing to rave about.  But, will probably be back just to be somewhere unique and nice.                                                                                                                                                                                                                                                                                                                                                                                                                                                                                                                                                                                                                                                                                                                                                                                                                                                                                                                                                                                                                                                                                                                                                                                                                                                                                                                                                                                                                                                                                                                                                                                                                     1\n",
              " 11/23/2016 1 check-in My best friend and I came to The Factory after seeing it on a couple of best new Austin brunch lists. It's super cute and trendy, to the point where it feels kind of out of place in a strip mall. Although I loved the interior design and general ambiance of the place, I was a little disappointed with the menu. This is more of a coffee shop than a cafe - their food options are pretty limited. My friend ordered the chicken and waffles and I ordered Nutella waffles with strawberries and bananas. For the price I paid, the portions were definitely on the smaller side. I enjoyed my meal still, but it's hard to mess up Nutella and fruit, so I wasn't particularly impressed. I would love to come back to study sometime but since they don't have wifi, I don't think it'll be likely.                                                                                                                                                                                                                                                                                                                                                                                                                                                                                                                                                                                                                                                                                                                                                                                                                                                                                                                                                                                                                                                                                                      1\n",
              " 11/2/2016 2 check-ins Love this place!  5 stars for cleanliness 5 stars for fun ambiance/ open space 5 stars for ample seating and comfort 5 stars for convenient parking 5 stars for attentive employees and fast service  I am definitely a fan Cafe w/ a Soul. I finally found a coffee shop I can study at without sacrificing comfort (Starbucks' uncomfortable chairs). The coffee shop endorses social connection, hence, wifi  isn't available. It makes me really happy that a lot of students hang out here with their book bags and laptops and we can all just study in peace and somehow quiet (the background music can get pretty loud). Unfortunately, there will always be that kid who's obnoxiously loud and would like the whole world to know her business. Seriously, unless it's something intriguing or educational, no one cares. In addition, as much \"fun\" as this place looks, it's not child friendly. So parents, make sure your children do not hit the table in front of it and knock out the chess set. Lastly, the sex images in the bathrooms are definitely not appropriate for children.  The ambiance is very much like Austin-- very eccentric and hip! Food and drink presentations are on par. Drink prices are reasonable and similar to good ole Starbucks. But unlike you're typical coffee shop, they have real food such as chicken and waffles.  My favorite about this place is the cleanliness. The employees do a good job maintaining the place. Also, as I watch them make coffees, they do it with fines as if they're creating some type of art, it's pretty cool (in my opinion).  In conclusion, Cafe w/ a Soul is probably the best coffee shop I've ever been to. It's like studying in my own home but away from distractions. I'm awake! Bathroom decor See all photos from Jay T. for The Factory - Cafe With a Soul                                                       1\n",
              " 11/25/2016 1 check-in Love love loved the atmosphere! Every corner of the coffee shop had its own style, and there were swings!!! I ordered the matcha latte, and it was muy fantastico! Ordering and getting my drink were pretty streamlined. I ordered on an iPad, which included all beverage selections that ranged from coffee to wine, desired level of sweetness, and a checkout system. I got my latte within minutes!  I was hoping for a typical heart or feather on my latte, but found myself listing out all the possibilities of what the art may be. Any ideas?                                                                                                                                                                                                                                                                                                                                                                                                                                                                                                                                                                                                                                                                                                                                                                                                                                                                                                                                                                                                                                                                                                                                                                                                                                                                                                                                                         1\n",
              " 12/3/2016 1 check-in They are located within the Northcross mall shopping center facing east toward Burnet Rd with plenty of parking. I loved their computerized user friendly ordering system, it made it easy me to pick & choose all the items I wanted to try. I ordered pop tart, chicken & waffles, strawberry waffles (photos uploaded). This place is ideal for ordering a few dishes to share with your group. Seating is limited since this place is fairly new with lots of visitors. Arrive early and be prepared to wait a bit if you with a large grop. Store front facing Burnet Rd See all photos from Michelle A. for The Factory - Cafe With a Soul                                                                                                                                                                                                                                                                                                                                                                                                                                                                                                                                                                                                                                                                                                                                                                                                                                                                                                                                                                                                                                                                                                                                                                                                                                                                   1\n",
              " 11/12/2016 Great coffee, food and atmosphere! Love the set-up. Order on an iPad and they call your name out when your food is ready.                                                                                                                                                                                                                                                                                                                                                                                                                                                                                                                                                                                                                                                                                                                                                                                                                                                                                                                                                                                                                                                                                                                                                                                                                                                                                                                                                                                                                                                                                                                                                                                                                                                                                                                                                                                                    1\n",
              " 10/25/2016 1 check-in Check out this video for a review! youtube.com/watch?v=N8Ki…  Cool new place in Austin! It's always great to see places doing something new and unique. The seating arrangements and atmosphere are definitely fun. One thing is that there's no internet, so don't plan on coming here to get stuff done!  You get to order on an ipad! yay.  Pros: - the drink choices are really great. You can get something that you want. You can even get beer here. - great for pictures and enjoying some time off. Sit on a swing ... while playing chase. - parking is plentiful in the plaza area. - friendly baristas  Cons: - food menu isn't too big, but that's okay. Not gluten free for the wife. - very pricey. If you need a place to come on a weekly basis, you're going to need to be a balla.                                                                                                                                                                                                                                                                                                                                                                                                                                                                                                                                                                                                                                                                                                                                                                                                                                                                                                                                                                                                                                                                                                             1\n",
              " 10/13/2016 The factory is gonna be my new coffee spot. No words can describe the Amazing atmosphere upon walking in. Comfortable seating, hip music, great interior finishes and table games. The intuitive ipad ordering system was quite fascinating as well with its ease of use. Great service and tastes great! Great job!                                                                                                                                                                                                                                                                                                                                                                                                                                                                                                                                                                                                                                                                                                                                                                                                                                                                                                                                                                                                                                                                                                                                                                                                                                                                                                                                                                                                                                                                                                                                                                                                         1\n",
              " 11/21/2016 1 check-in This place is fantastic! Ideal place for grabbing a frothy matcha latte and a chicken & waffle. A bit different in the way that you order. Definitely a nice hang-out for millenials or anyone who works in the area and is on a lunch break. Wifi is within reach but they don't have it themselves.                                                                                                                                                                                                                                                                                                                                                                                                                                                                                                                                                                                                                                                                                                                                                                                                                                                                                                                                                                                                                                                                                                                                                                                                                                                                                                                                                                                                                                                                                                                                                                                                             1\n",
              " 10/15/2016 1 check-in Note: Do not come here if you're looking for a place to work remotely! There is no WiFi and no outlets. Staff says they are hoping to create an environment where people socialize and enjoy each other's company rather than being on their phones.  For a spot to catch up with friends over coffee and pastries, I highly recommend coming here! There is ample seating, an open layout, and a lot to look at  and talk about including wooden swings, books and a chess board on a table, and a cute corner of pillows in another corner.  They serve coffee drinks, waffles, and pastries. The pop tart was extremely sweet, so much so that I was unable to finish even half. Their cortado was pretty good. The food and drinks are quite pricey here, which makes me question returning.  Presentation and ambience wise, I give this place 5 stars! But price and food, probably a 3.                                                                                                                                                                                                                                                                                                                                                                                                                                                                                                                                                                                                                                                                                                                                                                                                                                                                                                                                                                                                                    1\n",
              " 11/14/2016 Enthusiastic and earnest desire to be excellent, try new things and develop new menu ideas, smiles, not in your face - best almond pound cake I've ever had (worth the 5 stars alone), and a fantastic cup of red rooibos iced tea.  next to Hanabi.  fantastic new spot.                                                                                                                                                                                                                                                                                                                                                                                                                                                                                                                                                                                                                                                                                                                                                                                                                                                                                                                                                                                                                                                                                                                                                                                                                                                                                                                                                                                                                                                                                                                                                                                                                                                    1\n",
              "Name: full_review_text, dtype: int64"
            ]
          },
          "metadata": {
            "tags": []
          },
          "execution_count": 31
        }
      ]
    },
    {
      "cell_type": "code",
      "metadata": {
        "id": "HhKl_1I5scTj",
        "colab_type": "code",
        "colab": {}
      },
      "source": [
        "import string\n",
        "shop.full_review_text = shop.full_review_text.apply(lambda x: x.lower())\n",
        "shop.full_review_text = shop.full_review_text.apply(lambda x: x.translate(string.digits))"
      ],
      "execution_count": 0,
      "outputs": []
    },
    {
      "cell_type": "markdown",
      "metadata": {
        "colab_type": "text",
        "id": "1dCb1q8XphcP",
        "toc-hr-collapsed": true
      },
      "source": [
        "## Stretch Goals\n",
        "\n",
        "* Analyze another corpus of documents - such as Indeed.com job listings ;).\n",
        "* Play the the Spacy API to\n",
        " - Extract Named Entities\n",
        " - Extracting 'noun chunks'\n",
        " - Attempt Document Classification with just Spacy\n",
        " - *Note:* This [course](https://course.spacy.io/) will be of interesting in helping you with these stretch goals. \n",
        "* Try to build a plotly dash app with your text data \n",
        "\n"
      ]
    },
    {
      "cell_type": "code",
      "metadata": {
        "id": "JM6WWI98uPHx",
        "colab_type": "code",
        "colab": {}
      },
      "source": [
        "shop.full_review_text = shop.full_review_text.apply(lambda x: x.lower())\n"
      ],
      "execution_count": 0,
      "outputs": []
    },
    {
      "cell_type": "code",
      "metadata": {
        "id": "5CDoVLsEuihU",
        "colab_type": "code",
        "colab": {}
      },
      "source": [
        "shop[['full_review_text']]"
      ],
      "execution_count": 0,
      "outputs": []
    },
    {
      "cell_type": "code",
      "metadata": {
        "id": "Lg0jG5AIuuVA",
        "colab_type": "code",
        "colab": {}
      },
      "source": [
        "import string\n",
        "shop.full_review_text = shop.full_review_text.apply(lambda x: x.translate(string.punctuation))"
      ],
      "execution_count": 0,
      "outputs": []
    },
    {
      "cell_type": "code",
      "metadata": {
        "id": "GE9yuoTIumwb",
        "colab_type": "code",
        "colab": {}
      },
      "source": [
        "shop.full_review_text = shop.full_review_text.apply(lambda x: x.translate(string.digits))"
      ],
      "execution_count": 0,
      "outputs": []
    },
    {
      "cell_type": "code",
      "metadata": {
        "id": "0dVHR0vUwsAx",
        "colab_type": "code",
        "colab": {}
      },
      "source": [
        "shop.full_review_text.head()"
      ],
      "execution_count": 0,
      "outputs": []
    },
    {
      "cell_type": "code",
      "metadata": {
        "id": "8UWxWIeaxJf9",
        "colab_type": "code",
        "colab": {}
      },
      "source": [
        "shop.full_review_text.dtypes"
      ],
      "execution_count": 0,
      "outputs": []
    },
    {
      "cell_type": "code",
      "metadata": {
        "id": "MOI0dNCUxPIF",
        "colab_type": "code",
        "colab": {}
      },
      "source": [
        ""
      ],
      "execution_count": 0,
      "outputs": []
    },
    {
      "cell_type": "code",
      "metadata": {
        "id": "ojFOX4-ZxkIo",
        "colab_type": "code",
        "colab": {}
      },
      "source": [
        "shop.full_review_text"
      ],
      "execution_count": 0,
      "outputs": []
    },
    {
      "cell_type": "code",
      "metadata": {
        "id": "mmQw8DP8xuZ6",
        "colab_type": "code",
        "colab": {}
      },
      "source": [
        "# import string library function  \n",
        "import string  \n",
        "    \n",
        "# An input string. \n",
        "Sentence = shop['full_review_text']\n",
        "  \n",
        "for i in Sentence: \n",
        "      \n",
        "    # checking wheather the char is punctuation. \n",
        "    if i in string.punctuation: \n",
        "      print(i)\n",
        "   "
      ],
      "execution_count": 0,
      "outputs": []
    },
    {
      "cell_type": "code",
      "metadata": {
        "id": "yYIrJ-ckyPZ-",
        "colab_type": "code",
        "colab": {
          "base_uri": "https://localhost:8080/",
          "height": 1000
        },
        "outputId": "404408fd-b06b-45df-a676-a06a3198501c"
      },
      "source": [
        "shop['full_review_text']"
      ],
      "execution_count": 32,
      "outputs": [
        {
          "output_type": "execute_result",
          "data": {
            "text/plain": [
              "0        11/25/2016 1 check-in Love love loved the atm...\n",
              "1        12/2/2016 Listed in Date Night: Austin, Ambia...\n",
              "2        11/30/2016 1 check-in Listed in Brunch Spots ...\n",
              "3        11/25/2016 Very cool decor! Good drinks Nice ...\n",
              "4        12/3/2016 1 check-in They are located within ...\n",
              "5        11/20/2016 1 check-in Very cute cafe! I think...\n",
              "6        10/27/2016 2 check-ins Listed in \"Nuptial Cof...\n",
              "7        11/2/2016 2 check-ins Love this place!  5 sta...\n",
              "8        10/25/2016 1 check-in Ok, let's try this appr...\n",
              "9        11/10/2016 3 check-ins This place has been sh...\n",
              "10       10/22/2016 1 check-in Listed in Americano Thi...\n",
              "11       11/20/2016 The store has A+ decoration, but h...\n",
              "12       11/17/2016 1 check-in Listed in 2016 - The Th...\n",
              "13       12/5/2016 This is such a cute little cafe! I'...\n",
              "14       11/13/2016 Beautiful eccentric coffee shop wi...\n",
              "15       11/9/2016 1 check-in Listed in In Search of F...\n",
              "16       11/6/2016 Really love the atmosphere here! I ...\n",
              "17       10/25/2016 1 check-in Check out this video fo...\n",
              "18       10/15/2016 1 check-in Note: Do not come here ...\n",
              "19       12/1/2016 So much aesthetic in this place. I ...\n",
              "20       10/12/2016 1 check-in Checked out The Factory...\n",
              "21       10/10/2016 This place is so cute. New favorit...\n",
              "22       10/25/2016 Tried this new cafe spot on Burnet...\n",
              "23       11/16/2016 The greeting of an atmosphere it f...\n",
              "24       11/17/2016 Craft coffee drinks, tea, and beer...\n",
              "25       12/2/2016 Okay, so after visiting my friends ...\n",
              "26       11/9/2016 1 check-in Guys, this place is amaz...\n",
              "27       12/2/2016 What a fantastic atmosphere. I drop...\n",
              "28       12/1/2016 This place is amazing! No wifi, but...\n",
              "29       11/11/2016 I never write Yelp reviews, ever. ...\n",
              "                              ...                        \n",
              "7586     4/21/2013 Listed in So, you wanna eat in Nort...\n",
              "7587     3/6/2013 2 check-ins Listed in 100 Yelp Revie...\n",
              "7588     2/5/2015 6 check-ins Let me start by saying t...\n",
              "7589     12/20/2015 This is a great restaurant. I thin...\n",
              "7590     1/15/2015 So today I tried this place. I have...\n",
              "7591     10/6/2015 This is one of the best places to e...\n",
              "7592     5/20/2016 Good service. Good food. Prices are...\n",
              "7593     4/3/2015 1 check-in My favorite tea is the Ja...\n",
              "7594     2/17/2015 1 check-in This is my favorite tea ...\n",
              "7595     1/9/2013 4 check-ins Listed in Vegan and the ...\n",
              "7596     12/3/2015 I had the best experience at this r...\n",
              "7597     1/3/2014 1 check-in Listed in 2014 Yelp 100 C...\n",
              "7598     4/13/2015 I went to the steeping room today f...\n",
              "7599     3/28/2015 1 check-in I am someone that hates ...\n",
              "7600     5/10/2015 Great service with unimaginative an...\n",
              "7601     2/22/2015 1 check-in Great selection of teas ...\n",
              "7602     9/6/2015 2 check-ins I go here almost every w...\n",
              "7603     3/15/2014 1 check-in Went here for lunch toda...\n",
              "7604     10/25/2015 A few complaints about a wonderful...\n",
              "7605     10/22/2015 I got the Chipotle Chocolate Chai ...\n",
              "7606     6/11/2015 Same great tea and food as their Do...\n",
              "7607     8/14/2015 This place is amazing! It's one of ...\n",
              "7608     9/20/2015 I come here when I visit my friend ...\n",
              "7609     12/7/2014 1 check-in After noticing many frie...\n",
              "7610     3/1/2016 Great food! I haven't had a meal I d...\n",
              "7611     2/19/2015 I actually step into this restauran...\n",
              "7612     1/21/2016 Ok, The Steeping Room IS awesome. H...\n",
              "7613     4/30/2015 Loved coming here for tea, and the ...\n",
              "7614     8/2/2015 The food is just average. The booths...\n",
              "7615     5/23/2015 I finally stopped in for lunch with...\n",
              "Name: full_review_text, Length: 7616, dtype: object"
            ]
          },
          "metadata": {
            "tags": []
          },
          "execution_count": 32
        }
      ]
    },
    {
      "cell_type": "code",
      "metadata": {
        "id": "vzgmNotfyeAF",
        "colab_type": "code",
        "colab": {}
      },
      "source": [
        "x = txt.split(\"#\")"
      ],
      "execution_count": 0,
      "outputs": []
    },
    {
      "cell_type": "code",
      "metadata": {
        "id": "47dOEHnZ1OY7",
        "colab_type": "code",
        "colab": {}
      },
      "source": [
        "txt = \"apple#banana#cherry#orange\"\n",
        "\n",
        "x = txt.split(\"#\")\n",
        "\n",
        "print(x)"
      ],
      "execution_count": 0,
      "outputs": []
    },
    {
      "cell_type": "code",
      "metadata": {
        "id": "oFOYkToe1O5A",
        "colab_type": "code",
        "colab": {}
      },
      "source": [
        "['apple', 'banana', 'cherry', 'orange']"
      ],
      "execution_count": 0,
      "outputs": []
    },
    {
      "cell_type": "code",
      "metadata": {
        "id": "utHiKRgE1KNh",
        "colab_type": "code",
        "colab": {}
      },
      "source": [
        "sh"
      ],
      "execution_count": 0,
      "outputs": []
    },
    {
      "cell_type": "code",
      "metadata": {
        "id": "dbD7hBlT1dVt",
        "colab_type": "code",
        "colab": {}
      },
      "source": [
        "shop.full_review_text"
      ],
      "execution_count": 0,
      "outputs": []
    },
    {
      "cell_type": "code",
      "metadata": {
        "id": "iY4XiF52_V0I",
        "colab_type": "code",
        "colab": {}
      },
      "source": [
        "[]\n",
        "for i in shop.full_review_text:\n",
        "  i[5:].append()"
      ],
      "execution_count": 0,
      "outputs": []
    },
    {
      "cell_type": "code",
      "metadata": {
        "id": "cLJ34Lk_1nuX",
        "colab_type": "code",
        "colab": {}
      },
      "source": [
        "sample = \"Friends, Romans, countrymen, lend me your ears;\""
      ],
      "execution_count": 0,
      "outputs": []
    },
    {
      "cell_type": "code",
      "metadata": {
        "id": "LLrQVX8t2pcW",
        "colab_type": "code",
        "colab": {}
      },
      "source": [
        "sample.split()"
      ],
      "execution_count": 0,
      "outputs": []
    },
    {
      "cell_type": "code",
      "metadata": {
        "id": "yp6EeNcJ2p4l",
        "colab_type": "code",
        "colab": {}
      },
      "source": [
        " sample+\" 007 911\""
      ],
      "execution_count": 0,
      "outputs": []
    },
    {
      "cell_type": "code",
      "metadata": {
        "id": "lrCKipZY2whv",
        "colab_type": "code",
        "colab": {}
      },
      "source": [
        "import re\n",
        "\n",
        "re.sub(r'[^a-zA-Z ^0-9]', '', sample+\" 911\")"
      ],
      "execution_count": 0,
      "outputs": []
    },
    {
      "cell_type": "code",
      "metadata": {
        "id": "i0FpnZ9u2zqa",
        "colab_type": "code",
        "colab": {}
      },
      "source": [
        "def tokenize(text):\n",
        "    \"\"\"Parses a string into a list of semantic units (words)\n",
        "\n",
        "    Args:\n",
        "        text (str): The string that the function will tokenize.\n",
        "\n",
        "    Returns:\n",
        "        list: tokens parsed out by the mechanics of your choice\n",
        "    \"\"\"\n",
        "    \n",
        "    tokens = re.sub(r'[^a-zA-Z ^]', '', text)\n",
        "    tokens = tokens.lower().split()\n",
        "    \n",
        "    return tokens\n",
        " "
      ],
      "execution_count": 0,
      "outputs": []
    },
    {
      "cell_type": "code",
      "metadata": {
        "id": "zmoRAhG3AIOx",
        "colab_type": "code",
        "colab": {}
      },
      "source": [
        "shop.full_review_text = shop.full_review_text.apply(tokenize)"
      ],
      "execution_count": 0,
      "outputs": []
    },
    {
      "cell_type": "code",
      "metadata": {
        "id": "lTNcKa83ASZw",
        "colab_type": "code",
        "colab": {
          "base_uri": "https://localhost:8080/",
          "height": 119
        },
        "outputId": "15bf1277-5552-414f-a96e-72c0fe0df29b"
      },
      "source": [
        "shop.full_review_text.head()"
      ],
      "execution_count": 35,
      "outputs": [
        {
          "output_type": "execute_result",
          "data": {
            "text/plain": [
              "0    [checkin, love, love, loved, the, atmosphere, ...\n",
              "1    [listed, in, date, night, austin, ambiance, in...\n",
              "2    [checkin, listed, in, brunch, spots, i, loved,...\n",
              "3    [very, cool, decor, good, drinks, nice, seatin...\n",
              "4    [checkin, they, are, located, within, the, nor...\n",
              "Name: full_review_text, dtype: object"
            ]
          },
          "metadata": {
            "tags": []
          },
          "execution_count": 35
        }
      ]
    },
    {
      "cell_type": "code",
      "metadata": {
        "id": "7qlx8BlxAkFP",
        "colab_type": "code",
        "colab": {
          "base_uri": "https://localhost:8080/",
          "height": 1000
        },
        "outputId": "5393dc2e-8236-41a5-b3f2-67314b979d74"
      },
      "source": [
        ""
      ],
      "execution_count": 38,
      "outputs": [
        {
          "output_type": "execute_result",
          "data": {
            "text/html": [
              "<div>\n",
              "<style scoped>\n",
              "    .dataframe tbody tr th:only-of-type {\n",
              "        vertical-align: middle;\n",
              "    }\n",
              "\n",
              "    .dataframe tbody tr th {\n",
              "        vertical-align: top;\n",
              "    }\n",
              "\n",
              "    .dataframe thead th {\n",
              "        text-align: right;\n",
              "    }\n",
              "</style>\n",
              "<table border=\"1\" class=\"dataframe\">\n",
              "  <thead>\n",
              "    <tr style=\"text-align: right;\">\n",
              "      <th></th>\n",
              "      <th>coffee_shop_name</th>\n",
              "      <th>full_review_text</th>\n",
              "      <th>star_rating</th>\n",
              "    </tr>\n",
              "  </thead>\n",
              "  <tbody>\n",
              "    <tr>\n",
              "      <th>0</th>\n",
              "      <td>The Factory - Cafe With a Soul</td>\n",
              "      <td>[checkin, love, love, loved, the, atmosphere, ...</td>\n",
              "      <td>5.0 star rating</td>\n",
              "    </tr>\n",
              "    <tr>\n",
              "      <th>1</th>\n",
              "      <td>The Factory - Cafe With a Soul</td>\n",
              "      <td>[listed, in, date, night, austin, ambiance, in...</td>\n",
              "      <td>4.0 star rating</td>\n",
              "    </tr>\n",
              "    <tr>\n",
              "      <th>2</th>\n",
              "      <td>The Factory - Cafe With a Soul</td>\n",
              "      <td>[checkin, listed, in, brunch, spots, i, loved,...</td>\n",
              "      <td>4.0 star rating</td>\n",
              "    </tr>\n",
              "    <tr>\n",
              "      <th>3</th>\n",
              "      <td>The Factory - Cafe With a Soul</td>\n",
              "      <td>[very, cool, decor, good, drinks, nice, seatin...</td>\n",
              "      <td>2.0 star rating</td>\n",
              "    </tr>\n",
              "    <tr>\n",
              "      <th>4</th>\n",
              "      <td>The Factory - Cafe With a Soul</td>\n",
              "      <td>[checkin, they, are, located, within, the, nor...</td>\n",
              "      <td>4.0 star rating</td>\n",
              "    </tr>\n",
              "    <tr>\n",
              "      <th>5</th>\n",
              "      <td>The Factory - Cafe With a Soul</td>\n",
              "      <td>[checkin, very, cute, cafe, i, think, from, th...</td>\n",
              "      <td>4.0 star rating</td>\n",
              "    </tr>\n",
              "    <tr>\n",
              "      <th>6</th>\n",
              "      <td>The Factory - Cafe With a Soul</td>\n",
              "      <td>[checkins, listed, in, nuptial, coffee, bliss,...</td>\n",
              "      <td>4.0 star rating</td>\n",
              "    </tr>\n",
              "    <tr>\n",
              "      <th>7</th>\n",
              "      <td>The Factory - Cafe With a Soul</td>\n",
              "      <td>[checkins, love, this, place, stars, for, clea...</td>\n",
              "      <td>5.0 star rating</td>\n",
              "    </tr>\n",
              "    <tr>\n",
              "      <th>8</th>\n",
              "      <td>The Factory - Cafe With a Soul</td>\n",
              "      <td>[checkin, ok, lets, try, this, approach, pros,...</td>\n",
              "      <td>3.0 star rating</td>\n",
              "    </tr>\n",
              "    <tr>\n",
              "      <th>9</th>\n",
              "      <td>The Factory - Cafe With a Soul</td>\n",
              "      <td>[checkins, this, place, has, been, shown, on, ...</td>\n",
              "      <td>5.0 star rating</td>\n",
              "    </tr>\n",
              "    <tr>\n",
              "      <th>10</th>\n",
              "      <td>The Factory - Cafe With a Soul</td>\n",
              "      <td>[checkin, listed, in, americano, this, is, not...</td>\n",
              "      <td>4.0 star rating</td>\n",
              "    </tr>\n",
              "    <tr>\n",
              "      <th>11</th>\n",
              "      <td>The Factory - Cafe With a Soul</td>\n",
              "      <td>[the, store, has, a, decoration, but, honestly...</td>\n",
              "      <td>3.0 star rating</td>\n",
              "    </tr>\n",
              "    <tr>\n",
              "      <th>12</th>\n",
              "      <td>The Factory - Cafe With a Soul</td>\n",
              "      <td>[checkin, listed, in, the, third, time, is, a,...</td>\n",
              "      <td>3.0 star rating</td>\n",
              "    </tr>\n",
              "    <tr>\n",
              "      <th>13</th>\n",
              "      <td>The Factory - Cafe With a Soul</td>\n",
              "      <td>[this, is, such, a, cute, little, cafe, ive, d...</td>\n",
              "      <td>5.0 star rating</td>\n",
              "    </tr>\n",
              "    <tr>\n",
              "      <th>14</th>\n",
              "      <td>The Factory - Cafe With a Soul</td>\n",
              "      <td>[beautiful, eccentric, coffee, shop, with, a, ...</td>\n",
              "      <td>5.0 star rating</td>\n",
              "    </tr>\n",
              "    <tr>\n",
              "      <th>15</th>\n",
              "      <td>The Factory - Cafe With a Soul</td>\n",
              "      <td>[checkin, listed, in, in, search, of, fantasti...</td>\n",
              "      <td>5.0 star rating</td>\n",
              "    </tr>\n",
              "    <tr>\n",
              "      <th>16</th>\n",
              "      <td>The Factory - Cafe With a Soul</td>\n",
              "      <td>[really, love, the, atmosphere, here, i, frequ...</td>\n",
              "      <td>5.0 star rating</td>\n",
              "    </tr>\n",
              "    <tr>\n",
              "      <th>17</th>\n",
              "      <td>The Factory - Cafe With a Soul</td>\n",
              "      <td>[checkin, check, out, this, video, for, a, rev...</td>\n",
              "      <td>4.0 star rating</td>\n",
              "    </tr>\n",
              "    <tr>\n",
              "      <th>18</th>\n",
              "      <td>The Factory - Cafe With a Soul</td>\n",
              "      <td>[checkin, note, do, not, come, here, if, youre...</td>\n",
              "      <td>4.0 star rating</td>\n",
              "    </tr>\n",
              "    <tr>\n",
              "      <th>19</th>\n",
              "      <td>The Factory - Cafe With a Soul</td>\n",
              "      <td>[so, much, aesthetic, in, this, place, i, love...</td>\n",
              "      <td>4.0 star rating</td>\n",
              "    </tr>\n",
              "    <tr>\n",
              "      <th>20</th>\n",
              "      <td>The Factory - Cafe With a Soul</td>\n",
              "      <td>[checkin, checked, out, the, factory, this, pa...</td>\n",
              "      <td>5.0 star rating</td>\n",
              "    </tr>\n",
              "    <tr>\n",
              "      <th>21</th>\n",
              "      <td>The Factory - Cafe With a Soul</td>\n",
              "      <td>[this, place, is, so, cute, new, favorite, cof...</td>\n",
              "      <td>5.0 star rating</td>\n",
              "    </tr>\n",
              "    <tr>\n",
              "      <th>22</th>\n",
              "      <td>The Factory - Cafe With a Soul</td>\n",
              "      <td>[tried, this, new, cafe, spot, on, burnet, wit...</td>\n",
              "      <td>4.0 star rating</td>\n",
              "    </tr>\n",
              "    <tr>\n",
              "      <th>23</th>\n",
              "      <td>The Factory - Cafe With a Soul</td>\n",
              "      <td>[the, greeting, of, an, atmosphere, it, feels,...</td>\n",
              "      <td>5.0 star rating</td>\n",
              "    </tr>\n",
              "    <tr>\n",
              "      <th>24</th>\n",
              "      <td>The Factory - Cafe With a Soul</td>\n",
              "      <td>[craft, coffee, drinks, tea, and, beerwine, fr...</td>\n",
              "      <td>5.0 star rating</td>\n",
              "    </tr>\n",
              "    <tr>\n",
              "      <th>25</th>\n",
              "      <td>The Factory - Cafe With a Soul</td>\n",
              "      <td>[okay, so, after, visiting, my, friends, in, l...</td>\n",
              "      <td>1.0 star rating</td>\n",
              "    </tr>\n",
              "    <tr>\n",
              "      <th>26</th>\n",
              "      <td>The Factory - Cafe With a Soul</td>\n",
              "      <td>[checkin, guys, this, place, is, amazing, limi...</td>\n",
              "      <td>5.0 star rating</td>\n",
              "    </tr>\n",
              "    <tr>\n",
              "      <th>27</th>\n",
              "      <td>The Factory - Cafe With a Soul</td>\n",
              "      <td>[what, a, fantastic, atmosphere, i, dropped, i...</td>\n",
              "      <td>5.0 star rating</td>\n",
              "    </tr>\n",
              "    <tr>\n",
              "      <th>28</th>\n",
              "      <td>The Factory - Cafe With a Soul</td>\n",
              "      <td>[this, place, is, amazing, no, wifi, but, that...</td>\n",
              "      <td>5.0 star rating</td>\n",
              "    </tr>\n",
              "    <tr>\n",
              "      <th>29</th>\n",
              "      <td>The Factory - Cafe With a Soul</td>\n",
              "      <td>[i, never, write, yelp, reviews, ever, but, wh...</td>\n",
              "      <td>5.0 star rating</td>\n",
              "    </tr>\n",
              "    <tr>\n",
              "      <th>...</th>\n",
              "      <td>...</td>\n",
              "      <td>...</td>\n",
              "      <td>...</td>\n",
              "    </tr>\n",
              "    <tr>\n",
              "      <th>7586</th>\n",
              "      <td>The Steeping Room</td>\n",
              "      <td>[listed, in, so, you, wanna, eat, in, north, c...</td>\n",
              "      <td>4.0 star rating</td>\n",
              "    </tr>\n",
              "    <tr>\n",
              "      <th>7587</th>\n",
              "      <td>The Steeping Room</td>\n",
              "      <td>[checkins, listed, in, yelp, review, challenge...</td>\n",
              "      <td>4.0 star rating</td>\n",
              "    </tr>\n",
              "    <tr>\n",
              "      <th>7588</th>\n",
              "      <td>The Steeping Room</td>\n",
              "      <td>[checkins, let, me, start, by, saying, that, s...</td>\n",
              "      <td>5.0 star rating</td>\n",
              "    </tr>\n",
              "    <tr>\n",
              "      <th>7589</th>\n",
              "      <td>The Steeping Room</td>\n",
              "      <td>[this, is, a, great, restaurant, i, think, the...</td>\n",
              "      <td>5.0 star rating</td>\n",
              "    </tr>\n",
              "    <tr>\n",
              "      <th>7590</th>\n",
              "      <td>The Steeping Room</td>\n",
              "      <td>[so, today, i, tried, this, place, i, have, be...</td>\n",
              "      <td>3.0 star rating</td>\n",
              "    </tr>\n",
              "    <tr>\n",
              "      <th>7591</th>\n",
              "      <td>The Steeping Room</td>\n",
              "      <td>[this, is, one, of, the, best, places, to, eat...</td>\n",
              "      <td>5.0 star rating</td>\n",
              "    </tr>\n",
              "    <tr>\n",
              "      <th>7592</th>\n",
              "      <td>The Steeping Room</td>\n",
              "      <td>[good, service, good, food, prices, are, too, ...</td>\n",
              "      <td>4.0 star rating</td>\n",
              "    </tr>\n",
              "    <tr>\n",
              "      <th>7593</th>\n",
              "      <td>The Steeping Room</td>\n",
              "      <td>[checkin, my, favorite, tea, is, the, jasmine,...</td>\n",
              "      <td>4.0 star rating</td>\n",
              "    </tr>\n",
              "    <tr>\n",
              "      <th>7594</th>\n",
              "      <td>The Steeping Room</td>\n",
              "      <td>[checkin, this, is, my, favorite, tea, place, ...</td>\n",
              "      <td>5.0 star rating</td>\n",
              "    </tr>\n",
              "    <tr>\n",
              "      <th>7595</th>\n",
              "      <td>The Steeping Room</td>\n",
              "      <td>[checkins, listed, in, vegan, and, the, beast,...</td>\n",
              "      <td>4.0 star rating</td>\n",
              "    </tr>\n",
              "    <tr>\n",
              "      <th>7596</th>\n",
              "      <td>The Steeping Room</td>\n",
              "      <td>[i, had, the, best, experience, at, this, rest...</td>\n",
              "      <td>5.0 star rating</td>\n",
              "    </tr>\n",
              "    <tr>\n",
              "      <th>7597</th>\n",
              "      <td>The Steeping Room</td>\n",
              "      <td>[checkin, listed, in, yelp, challenge, holla, ...</td>\n",
              "      <td>4.0 star rating</td>\n",
              "    </tr>\n",
              "    <tr>\n",
              "      <th>7598</th>\n",
              "      <td>The Steeping Room</td>\n",
              "      <td>[i, went, to, the, steeping, room, today, for,...</td>\n",
              "      <td>5.0 star rating</td>\n",
              "    </tr>\n",
              "    <tr>\n",
              "      <th>7599</th>\n",
              "      <td>The Steeping Room</td>\n",
              "      <td>[checkin, i, am, someone, that, hates, going, ...</td>\n",
              "      <td>5.0 star rating</td>\n",
              "    </tr>\n",
              "    <tr>\n",
              "      <th>7600</th>\n",
              "      <td>The Steeping Room</td>\n",
              "      <td>[great, service, with, unimaginative, and, une...</td>\n",
              "      <td>2.0 star rating</td>\n",
              "    </tr>\n",
              "    <tr>\n",
              "      <th>7601</th>\n",
              "      <td>The Steeping Room</td>\n",
              "      <td>[checkin, great, selection, of, teas, to, purc...</td>\n",
              "      <td>4.0 star rating</td>\n",
              "    </tr>\n",
              "    <tr>\n",
              "      <th>7602</th>\n",
              "      <td>The Steeping Room</td>\n",
              "      <td>[checkins, i, go, here, almost, every, week, f...</td>\n",
              "      <td>4.0 star rating</td>\n",
              "    </tr>\n",
              "    <tr>\n",
              "      <th>7603</th>\n",
              "      <td>The Steeping Room</td>\n",
              "      <td>[checkin, went, here, for, lunch, today, with,...</td>\n",
              "      <td>4.0 star rating</td>\n",
              "    </tr>\n",
              "    <tr>\n",
              "      <th>7604</th>\n",
              "      <td>The Steeping Room</td>\n",
              "      <td>[a, few, complaints, about, a, wonderful, litt...</td>\n",
              "      <td>4.0 star rating</td>\n",
              "    </tr>\n",
              "    <tr>\n",
              "      <th>7605</th>\n",
              "      <td>The Steeping Room</td>\n",
              "      <td>[i, got, the, chipotle, chocolate, chai, tea, ...</td>\n",
              "      <td>5.0 star rating</td>\n",
              "    </tr>\n",
              "    <tr>\n",
              "      <th>7606</th>\n",
              "      <td>The Steeping Room</td>\n",
              "      <td>[same, great, tea, and, food, as, their, domai...</td>\n",
              "      <td>4.0 star rating</td>\n",
              "    </tr>\n",
              "    <tr>\n",
              "      <th>7607</th>\n",
              "      <td>The Steeping Room</td>\n",
              "      <td>[this, place, is, amazing, its, one, of, my, f...</td>\n",
              "      <td>5.0 star rating</td>\n",
              "    </tr>\n",
              "    <tr>\n",
              "      <th>7608</th>\n",
              "      <td>The Steeping Room</td>\n",
              "      <td>[i, come, here, when, i, visit, my, friend, in...</td>\n",
              "      <td>4.0 star rating</td>\n",
              "    </tr>\n",
              "    <tr>\n",
              "      <th>7609</th>\n",
              "      <td>The Steeping Room</td>\n",
              "      <td>[checkin, after, noticing, many, friends, have...</td>\n",
              "      <td>4.0 star rating</td>\n",
              "    </tr>\n",
              "    <tr>\n",
              "      <th>7610</th>\n",
              "      <td>The Steeping Room</td>\n",
              "      <td>[great, food, i, havent, had, a, meal, i, did,...</td>\n",
              "      <td>5.0 star rating</td>\n",
              "    </tr>\n",
              "    <tr>\n",
              "      <th>7611</th>\n",
              "      <td>The Steeping Room</td>\n",
              "      <td>[i, actually, step, into, this, restaurant, by...</td>\n",
              "      <td>4.0 star rating</td>\n",
              "    </tr>\n",
              "    <tr>\n",
              "      <th>7612</th>\n",
              "      <td>The Steeping Room</td>\n",
              "      <td>[ok, the, steeping, room, is, awesome, how, do...</td>\n",
              "      <td>5.0 star rating</td>\n",
              "    </tr>\n",
              "    <tr>\n",
              "      <th>7613</th>\n",
              "      <td>The Steeping Room</td>\n",
              "      <td>[loved, coming, here, for, tea, and, the, atmo...</td>\n",
              "      <td>4.0 star rating</td>\n",
              "    </tr>\n",
              "    <tr>\n",
              "      <th>7614</th>\n",
              "      <td>The Steeping Room</td>\n",
              "      <td>[the, food, is, just, average, the, booths, di...</td>\n",
              "      <td>3.0 star rating</td>\n",
              "    </tr>\n",
              "    <tr>\n",
              "      <th>7615</th>\n",
              "      <td>The Steeping Room</td>\n",
              "      <td>[i, finally, stopped, in, for, lunch, with, my...</td>\n",
              "      <td>4.0 star rating</td>\n",
              "    </tr>\n",
              "  </tbody>\n",
              "</table>\n",
              "<p>7616 rows × 3 columns</p>\n",
              "</div>"
            ],
            "text/plain": [
              "                     coffee_shop_name  ...        star_rating\n",
              "0     The Factory - Cafe With a Soul   ...   5.0 star rating \n",
              "1     The Factory - Cafe With a Soul   ...   4.0 star rating \n",
              "2     The Factory - Cafe With a Soul   ...   4.0 star rating \n",
              "3     The Factory - Cafe With a Soul   ...   2.0 star rating \n",
              "4     The Factory - Cafe With a Soul   ...   4.0 star rating \n",
              "5     The Factory - Cafe With a Soul   ...   4.0 star rating \n",
              "6     The Factory - Cafe With a Soul   ...   4.0 star rating \n",
              "7     The Factory - Cafe With a Soul   ...   5.0 star rating \n",
              "8     The Factory - Cafe With a Soul   ...   3.0 star rating \n",
              "9     The Factory - Cafe With a Soul   ...   5.0 star rating \n",
              "10    The Factory - Cafe With a Soul   ...   4.0 star rating \n",
              "11    The Factory - Cafe With a Soul   ...   3.0 star rating \n",
              "12    The Factory - Cafe With a Soul   ...   3.0 star rating \n",
              "13    The Factory - Cafe With a Soul   ...   5.0 star rating \n",
              "14    The Factory - Cafe With a Soul   ...   5.0 star rating \n",
              "15    The Factory - Cafe With a Soul   ...   5.0 star rating \n",
              "16    The Factory - Cafe With a Soul   ...   5.0 star rating \n",
              "17    The Factory - Cafe With a Soul   ...   4.0 star rating \n",
              "18    The Factory - Cafe With a Soul   ...   4.0 star rating \n",
              "19    The Factory - Cafe With a Soul   ...   4.0 star rating \n",
              "20    The Factory - Cafe With a Soul   ...   5.0 star rating \n",
              "21    The Factory - Cafe With a Soul   ...   5.0 star rating \n",
              "22    The Factory - Cafe With a Soul   ...   4.0 star rating \n",
              "23    The Factory - Cafe With a Soul   ...   5.0 star rating \n",
              "24    The Factory - Cafe With a Soul   ...   5.0 star rating \n",
              "25    The Factory - Cafe With a Soul   ...   1.0 star rating \n",
              "26    The Factory - Cafe With a Soul   ...   5.0 star rating \n",
              "27    The Factory - Cafe With a Soul   ...   5.0 star rating \n",
              "28    The Factory - Cafe With a Soul   ...   5.0 star rating \n",
              "29    The Factory - Cafe With a Soul   ...   5.0 star rating \n",
              "...                               ...  ...                ...\n",
              "7586               The Steeping Room   ...   4.0 star rating \n",
              "7587               The Steeping Room   ...   4.0 star rating \n",
              "7588               The Steeping Room   ...   5.0 star rating \n",
              "7589               The Steeping Room   ...   5.0 star rating \n",
              "7590               The Steeping Room   ...   3.0 star rating \n",
              "7591               The Steeping Room   ...   5.0 star rating \n",
              "7592               The Steeping Room   ...   4.0 star rating \n",
              "7593               The Steeping Room   ...   4.0 star rating \n",
              "7594               The Steeping Room   ...   5.0 star rating \n",
              "7595               The Steeping Room   ...   4.0 star rating \n",
              "7596               The Steeping Room   ...   5.0 star rating \n",
              "7597               The Steeping Room   ...   4.0 star rating \n",
              "7598               The Steeping Room   ...   5.0 star rating \n",
              "7599               The Steeping Room   ...   5.0 star rating \n",
              "7600               The Steeping Room   ...   2.0 star rating \n",
              "7601               The Steeping Room   ...   4.0 star rating \n",
              "7602               The Steeping Room   ...   4.0 star rating \n",
              "7603               The Steeping Room   ...   4.0 star rating \n",
              "7604               The Steeping Room   ...   4.0 star rating \n",
              "7605               The Steeping Room   ...   5.0 star rating \n",
              "7606               The Steeping Room   ...   4.0 star rating \n",
              "7607               The Steeping Room   ...   5.0 star rating \n",
              "7608               The Steeping Room   ...   4.0 star rating \n",
              "7609               The Steeping Room   ...   4.0 star rating \n",
              "7610               The Steeping Room   ...   5.0 star rating \n",
              "7611               The Steeping Room   ...   4.0 star rating \n",
              "7612               The Steeping Room   ...   5.0 star rating \n",
              "7613               The Steeping Room   ...   4.0 star rating \n",
              "7614               The Steeping Room   ...   3.0 star rating \n",
              "7615               The Steeping Room   ...   4.0 star rating \n",
              "\n",
              "[7616 rows x 3 columns]"
            ]
          },
          "metadata": {
            "tags": []
          },
          "execution_count": 38
        }
      ]
    },
    {
      "cell_type": "code",
      "metadata": {
        "id": "EzAcAMsqWKqg",
        "colab_type": "code",
        "colab": {
          "base_uri": "https://localhost:8080/",
          "height": 88
        },
        "outputId": "8a36c2dc-4a18-40b4-d407-beb65d144be8"
      },
      "source": [
        "pip install collections"
      ],
      "execution_count": 40,
      "outputs": [
        {
          "output_type": "stream",
          "text": [
            "Collecting collections\n",
            "\u001b[31m  ERROR: Could not find a version that satisfies the requirement collections (from versions: none)\u001b[0m\n",
            "\u001b[31mERROR: No matching distribution found for collections\u001b[0m\n"
          ],
          "name": "stdout"
        }
      ]
    },
    {
      "cell_type": "code",
      "metadata": {
        "id": "TxdxgIWHC8V7",
        "colab_type": "code",
        "colab": {}
      },
      "source": [
        "# Object from Base Python\n",
        "\n",
        "from collections import Counter\n",
        "word_counts = Counter()"
      ],
      "execution_count": 0,
      "outputs": []
    },
    {
      "cell_type": "code",
      "metadata": {
        "id": "zYtcDPJ3V097",
        "colab_type": "code",
        "colab": {
          "base_uri": "https://localhost:8080/",
          "height": 1000
        },
        "outputId": "4352a11a-ed78-4988-ba21-d5e7d2f40758"
      },
      "source": [
        "\n",
        "\n",
        "shop['full_review_text'].apply(lambda x: word_counts.update(x))\n"
      ],
      "execution_count": 47,
      "outputs": [
        {
          "output_type": "execute_result",
          "data": {
            "text/plain": [
              "0       None\n",
              "1       None\n",
              "2       None\n",
              "3       None\n",
              "4       None\n",
              "5       None\n",
              "6       None\n",
              "7       None\n",
              "8       None\n",
              "9       None\n",
              "10      None\n",
              "11      None\n",
              "12      None\n",
              "13      None\n",
              "14      None\n",
              "15      None\n",
              "16      None\n",
              "17      None\n",
              "18      None\n",
              "19      None\n",
              "20      None\n",
              "21      None\n",
              "22      None\n",
              "23      None\n",
              "24      None\n",
              "25      None\n",
              "26      None\n",
              "27      None\n",
              "28      None\n",
              "29      None\n",
              "        ... \n",
              "7586    None\n",
              "7587    None\n",
              "7588    None\n",
              "7589    None\n",
              "7590    None\n",
              "7591    None\n",
              "7592    None\n",
              "7593    None\n",
              "7594    None\n",
              "7595    None\n",
              "7596    None\n",
              "7597    None\n",
              "7598    None\n",
              "7599    None\n",
              "7600    None\n",
              "7601    None\n",
              "7602    None\n",
              "7603    None\n",
              "7604    None\n",
              "7605    None\n",
              "7606    None\n",
              "7607    None\n",
              "7608    None\n",
              "7609    None\n",
              "7610    None\n",
              "7611    None\n",
              "7612    None\n",
              "7613    None\n",
              "7614    None\n",
              "7615    None\n",
              "Name: full_review_text, Length: 7616, dtype: object"
            ]
          },
          "metadata": {
            "tags": []
          },
          "execution_count": 47
        }
      ]
    },
    {
      "cell_type": "code",
      "metadata": {
        "id": "XZ-0_Nn9Wu3E",
        "colab_type": "code",
        "colab": {
          "base_uri": "https://localhost:8080/",
          "height": 187
        },
        "outputId": "1457a693-b8c6-4143-bf46-dacd1d1490b5"
      },
      "source": [
        "#update it based on a split of each of our documents\n",
        "word_counts.most_common(10)\n"
      ],
      "execution_count": 48,
      "outputs": [
        {
          "output_type": "execute_result",
          "data": {
            "text/plain": [
              "[('the', 69618),\n",
              " ('and', 53302),\n",
              " ('a', 45512),\n",
              " ('i', 40498),\n",
              " ('to', 34328),\n",
              " ('of', 25200),\n",
              " ('is', 23998),\n",
              " ('coffee', 20708),\n",
              " ('was', 19414),\n",
              " ('in', 19092)]"
            ]
          },
          "metadata": {
            "tags": []
          },
          "execution_count": 48
        }
      ]
    },
    {
      "cell_type": "code",
      "metadata": {
        "id": "hel960ZbXTbc",
        "colab_type": "code",
        "colab": {}
      },
      "source": [
        "def count(docs):\n",
        "\n",
        "        word_counts = Counter()\n",
        "        appears_in = Counter()\n",
        "        \n",
        "        total_docs = len(docs)\n",
        "\n",
        "        for doc in docs:\n",
        "            word_counts.update(doc)\n",
        "            appears_in.update(set(doc))\n",
        "\n",
        "        temp = zip(word_counts.keys(), word_counts.values())\n",
        "        \n",
        "        wc = pd.DataFrame(temp, columns = ['word', 'count'])\n",
        "\n",
        "        wc['rank'] = wc['count'].rank(method='first', ascending=False)\n",
        "        total = wc['count'].sum()\n",
        "\n",
        "        wc['pct_total'] = wc['count'].apply(lambda x: x / total)\n",
        "        \n",
        "        wc = wc.sort_values(by='rank')\n",
        "        wc['cul_pct_total'] = wc['pct_total'].cumsum()\n",
        "\n",
        "        t2 = zip(appears_in.keys(), appears_in.values())\n",
        "        ac = pd.DataFrame(t2, columns=['word', 'appears_in'])\n",
        "        wc = ac.merge(wc, on='word')\n",
        "\n",
        "        wc['appears_in_pct'] = wc['appears_in'].apply(lambda x: x / total_docs)\n",
        "        \n",
        "        return wc.sort_values(by='rank')"
      ],
      "execution_count": 0,
      "outputs": []
    },
    {
      "cell_type": "code",
      "metadata": {
        "id": "GtO5hY13XmOc",
        "colab_type": "code",
        "colab": {}
      },
      "source": [
        "wc = count(shop['full_review_text'])\n"
      ],
      "execution_count": 0,
      "outputs": []
    },
    {
      "cell_type": "code",
      "metadata": {
        "id": "w7ze57eyXrPF",
        "colab_type": "code",
        "colab": {
          "base_uri": "https://localhost:8080/",
          "height": 204
        },
        "outputId": "dbb96213-b91b-4fb9-e57b-f3bba2ea30d7"
      },
      "source": [
        "wc.head()"
      ],
      "execution_count": 51,
      "outputs": [
        {
          "output_type": "execute_result",
          "data": {
            "text/html": [
              "<div>\n",
              "<style scoped>\n",
              "    .dataframe tbody tr th:only-of-type {\n",
              "        vertical-align: middle;\n",
              "    }\n",
              "\n",
              "    .dataframe tbody tr th {\n",
              "        vertical-align: top;\n",
              "    }\n",
              "\n",
              "    .dataframe thead th {\n",
              "        text-align: right;\n",
              "    }\n",
              "</style>\n",
              "<table border=\"1\" class=\"dataframe\">\n",
              "  <thead>\n",
              "    <tr style=\"text-align: right;\">\n",
              "      <th></th>\n",
              "      <th>word</th>\n",
              "      <th>appears_in</th>\n",
              "      <th>count</th>\n",
              "      <th>rank</th>\n",
              "      <th>pct_total</th>\n",
              "      <th>cul_pct_total</th>\n",
              "      <th>appears_in_pct</th>\n",
              "    </tr>\n",
              "  </thead>\n",
              "  <tbody>\n",
              "    <tr>\n",
              "      <th>68</th>\n",
              "      <td>the</td>\n",
              "      <td>6847</td>\n",
              "      <td>34809</td>\n",
              "      <td>1.0</td>\n",
              "      <td>0.045411</td>\n",
              "      <td>0.045411</td>\n",
              "      <td>0.899028</td>\n",
              "    </tr>\n",
              "    <tr>\n",
              "      <th>6</th>\n",
              "      <td>and</td>\n",
              "      <td>6864</td>\n",
              "      <td>26651</td>\n",
              "      <td>2.0</td>\n",
              "      <td>0.034768</td>\n",
              "      <td>0.080180</td>\n",
              "      <td>0.901261</td>\n",
              "    </tr>\n",
              "    <tr>\n",
              "      <th>44</th>\n",
              "      <td>a</td>\n",
              "      <td>6246</td>\n",
              "      <td>22756</td>\n",
              "      <td>3.0</td>\n",
              "      <td>0.029687</td>\n",
              "      <td>0.109867</td>\n",
              "      <td>0.820116</td>\n",
              "    </tr>\n",
              "    <tr>\n",
              "      <th>26</th>\n",
              "      <td>i</td>\n",
              "      <td>5532</td>\n",
              "      <td>20249</td>\n",
              "      <td>4.0</td>\n",
              "      <td>0.026416</td>\n",
              "      <td>0.136283</td>\n",
              "      <td>0.726366</td>\n",
              "    </tr>\n",
              "    <tr>\n",
              "      <th>45</th>\n",
              "      <td>to</td>\n",
              "      <td>5653</td>\n",
              "      <td>17164</td>\n",
              "      <td>5.0</td>\n",
              "      <td>0.022392</td>\n",
              "      <td>0.158675</td>\n",
              "      <td>0.742253</td>\n",
              "    </tr>\n",
              "  </tbody>\n",
              "</table>\n",
              "</div>"
            ],
            "text/plain": [
              "   word  appears_in  count  rank  pct_total  cul_pct_total  appears_in_pct\n",
              "68  the        6847  34809   1.0   0.045411       0.045411        0.899028\n",
              "6   and        6864  26651   2.0   0.034768       0.080180        0.901261\n",
              "44    a        6246  22756   3.0   0.029687       0.109867        0.820116\n",
              "26    i        5532  20249   4.0   0.026416       0.136283        0.726366\n",
              "45   to        5653  17164   5.0   0.022392       0.158675        0.742253"
            ]
          },
          "metadata": {
            "tags": []
          },
          "execution_count": 51
        }
      ]
    },
    {
      "cell_type": "code",
      "metadata": {
        "id": "2RJcNFVuXsTZ",
        "colab_type": "code",
        "colab": {
          "base_uri": "https://localhost:8080/",
          "height": 283
        },
        "outputId": "6eca63af-a02a-47ed-9c06-e2a8c8277dc7"
      },
      "source": [
        "import seaborn as sns\n",
        "\n",
        "# Cumulative Distribution Plot\n",
        "sns.lineplot(x='rank', y='cul_pct_total', data=wc);"
      ],
      "execution_count": 52,
      "outputs": [
        {
          "output_type": "display_data",
          "data": {
            "image/png": "[encoded data removed]",
            "text/plain": [
              "<Figure size 432x288 with 1 Axes>"
            ]
          },
          "metadata": {
            "tags": []
          }
        }
      ]
    },
    {
      "cell_type": "code",
      "metadata": {
        "id": "Zbm3UcVeXwpQ",
        "colab_type": "code",
        "colab": {
          "base_uri": "https://localhost:8080/",
          "height": 34
        },
        "outputId": "9a633559-767f-4b56-c502-e911109d6d9a"
      },
      "source": [
        "wc[wc['rank'] <= 20]['cul_pct_total'].max()\n"
      ],
      "execution_count": 53,
      "outputs": [
        {
          "output_type": "execute_result",
          "data": {
            "text/plain": [
              "0.31714651370006874"
            ]
          },
          "metadata": {
            "tags": []
          },
          "execution_count": 53
        }
      ]
    },
    {
      "cell_type": "code",
      "metadata": {
        "id": "LB-wkE7IX3EO",
        "colab_type": "code",
        "colab": {
          "base_uri": "https://localhost:8080/",
          "height": 269
        },
        "outputId": "06e18b86-8e06-4133-fe20-c80caef0af14"
      },
      "source": [
        "import squarify\n",
        "import matplotlib.pyplot as plt\n",
        "wc_top20 = wc[wc['rank'] <=20]\n",
        "\n",
        "squarify.plot(sizes = wc_top20)"
      ],
      "execution_count": 54,
      "outputs": [
        {
          "output_type": "display_data",
          "data": {
            "image/png": "[encoded data removed]",
            "text/plain": [
              "<Figure size 432x288 with 1 Axes>"
            ]
          },
          "metadata": {
            "tags": []
          }
        }
      ]
    },
    {
      "cell_type": "code",
      "metadata": {
        "id": "Ig-eL3uvX8W1",
        "colab_type": "code",
        "colab": {
          "base_uri": "https://localhost:8080/",
          "height": 269
        },
        "outputId": "aba68f1b-a7c5-4b47-fc84-48d0a6822246"
      },
      "source": [
        ""
      ],
      "execution_count": 55,
      "outputs": [
        {
          "output_type": "display_data",
          "data": {
            "image/png": "[encoded data removed]",
            "text/plain": [
              "<Figure size 432x288 with 1 Axes>"
            ]
          },
          "metadata": {
            "tags": []
          }
        }
      ]
    },
    {
      "cell_type": "code",
      "metadata": {
        "id": "Pk75btx0YQwG",
        "colab_type": "code",
        "colab": {}
      },
      "source": [
        "import spacy "
      ],
      "execution_count": 0,
      "outputs": []
    },
    {
      "cell_type": "code",
      "metadata": {
        "id": "dO2AOJSdYbOI",
        "colab_type": "code",
        "colab": {}
      },
      "source": [
        "from spacy.tokenizer import Tokenizer"
      ],
      "execution_count": 0,
      "outputs": []
    },
    {
      "cell_type": "code",
      "metadata": {
        "id": "wunJ5nqlYd61",
        "colab_type": "code",
        "colab": {}
      },
      "source": [
        "nlp = spacy.load('en')"
      ],
      "execution_count": 0,
      "outputs": []
    },
    {
      "cell_type": "code",
      "metadata": {
        "id": "mrsuOzJyYibS",
        "colab_type": "code",
        "colab": {}
      },
      "source": [
        "#tokenizer\n",
        "tokenizer = Tokenizer(nlp.vocab)"
      ],
      "execution_count": 0,
      "outputs": []
    },
    {
      "cell_type": "code",
      "metadata": {
        "id": "axBBMA8_YtIR",
        "colab_type": "code",
        "colab": {
          "base_uri": "https://localhost:8080/",
          "height": 164
        },
        "outputId": "faf8805a-0093-4687-8f6c-91c7e3950580"
      },
      "source": [
        "#print out a list of tokens\n"
      ],
      "execution_count": 63,
      "outputs": [
        {
          "output_type": "error",
          "ename": "TypeError",
          "evalue": "ignored",
          "traceback": [
            "\u001b[0;31m---------------------------------------------------------------------------\u001b[0m",
            "\u001b[0;31mTypeError\u001b[0m                                 Traceback (most recent call last)",
            "\u001b[0;32m<ipython-input-63-e560e8425ea9>\u001b[0m in \u001b[0;36m<module>\u001b[0;34m()\u001b[0m\n\u001b[0;32m----> 1\u001b[0;31m \u001b[0;34m[\u001b[0m\u001b[0mtoken\u001b[0m\u001b[0;34m.\u001b[0m\u001b[0mtext\u001b[0m \u001b[0;32mfor\u001b[0m \u001b[0mtoken\u001b[0m \u001b[0;32min\u001b[0m \u001b[0mtokenizer\u001b[0m\u001b[0;34m(\u001b[0m\u001b[0mshop\u001b[0m\u001b[0;34m[\u001b[0m\u001b[0;34m'full_review_text'\u001b[0m\u001b[0;34m]\u001b[0m\u001b[0;34m)\u001b[0m\u001b[0;34m]\u001b[0m\u001b[0;34m\u001b[0m\u001b[0;34m\u001b[0m\u001b[0m\n\u001b[0m",
            "\u001b[0;31mTypeError\u001b[0m: Argument 'string' has incorrect type (expected str, got Series)"
          ]
        }
      ]
    },
    {
      "cell_type": "code",
      "metadata": {
        "id": "yhEa61QiZf1I",
        "colab_type": "code",
        "colab": {}
      },
      "source": [
        "tokens = []"
      ],
      "execution_count": 0,
      "outputs": []
    },
    {
      "cell_type": "code",
      "metadata": {
        "id": "fiPQRGWNZo4u",
        "colab_type": "code",
        "colab": {}
      },
      "source": [
        "for doc in tokenizer.pipe(shop['full_review_text'], batch_size=500):\n",
        "    doc_tokens = [token.text for token in doc]\n",
        "    tokens.append(doc_tokens)\n",
        "\n",
        "shop['full_review_text'] = tokens"
      ],
      "execution_count": 0,
      "outputs": []
    },
    {
      "cell_type": "code",
      "metadata": {
        "id": "bRYeLasiaBaM",
        "colab_type": "code",
        "colab": {
          "base_uri": "https://localhost:8080/",
          "height": 119
        },
        "outputId": "59e4741f-3e45-423c-86ec-4682a012b152"
      },
      "source": [
        "shop['full_review_text'].head()"
      ],
      "execution_count": 67,
      "outputs": [
        {
          "output_type": "execute_result",
          "data": {
            "text/plain": [
              "0    [ , 11/25/2016, 1, check-in, Love, love, loved...\n",
              "1    [ , 12/2/2016, Listed, in, Date, Night:, Austi...\n",
              "2    [ , 11/30/2016, 1, check-in, Listed, in, Brunc...\n",
              "3    [ , 11/25/2016, Very, cool, decor!, Good, drin...\n",
              "4    [ , 12/3/2016, 1, check-in, They, are, located...\n",
              "Name: full_review_text, dtype: object"
            ]
          },
          "metadata": {
            "tags": []
          },
          "execution_count": 67
        }
      ]
    },
    {
      "cell_type": "code",
      "metadata": {
        "id": "2v3RvQuRaFQ4",
        "colab_type": "code",
        "colab": {}
      },
      "source": [
        "wc = count(shop['full_review_text'])\n"
      ],
      "execution_count": 0,
      "outputs": []
    },
    {
      "cell_type": "code",
      "metadata": {
        "id": "Z6zk8Bu7afjI",
        "colab_type": "code",
        "colab": {
          "base_uri": "https://localhost:8080/",
          "height": 204
        },
        "outputId": "75a781e2-eb4f-4e13-f29f-6f0abf5b8801"
      },
      "source": [
        "wc.head()"
      ],
      "execution_count": 69,
      "outputs": [
        {
          "output_type": "execute_result",
          "data": {
            "text/html": [
              "<div>\n",
              "<style scoped>\n",
              "    .dataframe tbody tr th:only-of-type {\n",
              "        vertical-align: middle;\n",
              "    }\n",
              "\n",
              "    .dataframe tbody tr th {\n",
              "        vertical-align: top;\n",
              "    }\n",
              "\n",
              "    .dataframe thead th {\n",
              "        text-align: right;\n",
              "    }\n",
              "</style>\n",
              "<table border=\"1\" class=\"dataframe\">\n",
              "  <thead>\n",
              "    <tr style=\"text-align: right;\">\n",
              "      <th></th>\n",
              "      <th>word</th>\n",
              "      <th>appears_in</th>\n",
              "      <th>count</th>\n",
              "      <th>rank</th>\n",
              "      <th>pct_total</th>\n",
              "      <th>cul_pct_total</th>\n",
              "      <th>appears_in_pct</th>\n",
              "    </tr>\n",
              "  </thead>\n",
              "  <tbody>\n",
              "    <tr>\n",
              "      <th>73</th>\n",
              "      <td>the</td>\n",
              "      <td>6520</td>\n",
              "      <td>27779</td>\n",
              "      <td>1.0</td>\n",
              "      <td>0.034334</td>\n",
              "      <td>0.034334</td>\n",
              "      <td>0.856092</td>\n",
              "    </tr>\n",
              "    <tr>\n",
              "      <th>9</th>\n",
              "      <td>and</td>\n",
              "      <td>6804</td>\n",
              "      <td>25748</td>\n",
              "      <td>2.0</td>\n",
              "      <td>0.031824</td>\n",
              "      <td>0.066157</td>\n",
              "      <td>0.893382</td>\n",
              "    </tr>\n",
              "    <tr>\n",
              "      <th>6</th>\n",
              "      <td></td>\n",
              "      <td>7616</td>\n",
              "      <td>22606</td>\n",
              "      <td>3.0</td>\n",
              "      <td>0.027940</td>\n",
              "      <td>0.094097</td>\n",
              "      <td>1.000000</td>\n",
              "    </tr>\n",
              "    <tr>\n",
              "      <th>51</th>\n",
              "      <td>a</td>\n",
              "      <td>6181</td>\n",
              "      <td>22085</td>\n",
              "      <td>4.0</td>\n",
              "      <td>0.027296</td>\n",
              "      <td>0.121394</td>\n",
              "      <td>0.811581</td>\n",
              "    </tr>\n",
              "    <tr>\n",
              "      <th>63</th>\n",
              "      <td>I</td>\n",
              "      <td>5469</td>\n",
              "      <td>19780</td>\n",
              "      <td>5.0</td>\n",
              "      <td>0.024447</td>\n",
              "      <td>0.145841</td>\n",
              "      <td>0.718093</td>\n",
              "    </tr>\n",
              "  </tbody>\n",
              "</table>\n",
              "</div>"
            ],
            "text/plain": [
              "   word  appears_in  count  rank  pct_total  cul_pct_total  appears_in_pct\n",
              "73  the        6520  27779   1.0   0.034334       0.034334        0.856092\n",
              "9   and        6804  25748   2.0   0.031824       0.066157        0.893382\n",
              "6              7616  22606   3.0   0.027940       0.094097        1.000000\n",
              "51    a        6181  22085   4.0   0.027296       0.121394        0.811581\n",
              "63    I        5469  19780   5.0   0.024447       0.145841        0.718093"
            ]
          },
          "metadata": {
            "tags": []
          },
          "execution_count": 69
        }
      ]
    },
    {
      "cell_type": "code",
      "metadata": {
        "id": "xtdVsSlqagyc",
        "colab_type": "code",
        "colab": {
          "base_uri": "https://localhost:8080/",
          "height": 269
        },
        "outputId": "80e48310-a6c3-435c-c932-d01abcbf38c2"
      },
      "source": [
        "wc_top20 = wc[wc['rank'] <= 20]\n",
        "\n",
        "squarify.plot(sizes=wc_top20['pct_total'], label=wc_top20['word'], alpha=.8 )\n",
        "plt.axis('off')\n",
        "plt.show()"
      ],
      "execution_count": 70,
      "outputs": [
        {
          "output_type": "display_data",
          "data": {
            "image/png": "[encoded data removed]",
            "text/plain": [
              "<Figure size 432x288 with 1 Axes>"
            ]
          },
          "metadata": {
            "tags": []
          }
        }
      ]
    },
    {
      "cell_type": "code",
      "metadata": {
        "id": "WLDVsP7Tarni",
        "colab_type": "code",
        "colab": {
          "base_uri": "https://localhost:8080/",
          "height": 34
        },
        "outputId": "572270ad-a28c-49e2-dc60-f1655bc8974e"
      },
      "source": [
        "len(nlp.Defaults.stop_words)\n"
      ],
      "execution_count": 71,
      "outputs": [
        {
          "output_type": "execute_result",
          "data": {
            "text/plain": [
              "326"
            ]
          },
          "metadata": {
            "tags": []
          },
          "execution_count": 71
        }
      ]
    },
    {
      "cell_type": "code",
      "metadata": {
        "id": "rf-1sb27avfC",
        "colab_type": "code",
        "colab": {
          "base_uri": "https://localhost:8080/",
          "height": 266
        },
        "outputId": "293d824b-6302-40b5-9bd1-b71b547952fa"
      },
      "source": [
        "tokens = []\n",
        "\n",
        "\"\"\" Update those tokens w/o stopwords\"\"\"\n",
        "for doc in tokenizer.pipe(shop['full_review_text'], batch_size=500):\n",
        "    \n",
        "    doc_tokens = []\n",
        "    \n",
        "    for token in doc:\n",
        "        if (token.is_stop == False) & (token.is_punct == False):\n",
        "            doc_tokens.append(token.text.lower())\n",
        "\n",
        "    tokens.append(doc_tokens)\n",
        "\n",
        "shop['full_review_text'] = tokens"
      ],
      "execution_count": 74,
      "outputs": [
        {
          "output_type": "error",
          "ename": "TypeError",
          "evalue": "ignored",
          "traceback": [
            "\u001b[0;31m---------------------------------------------------------------------------\u001b[0m",
            "\u001b[0;31mTypeError\u001b[0m                                 Traceback (most recent call last)",
            "\u001b[0;32m<ipython-input-74-39748b347375>\u001b[0m in \u001b[0;36m<module>\u001b[0;34m()\u001b[0m\n\u001b[1;32m      2\u001b[0m \u001b[0;34m\u001b[0m\u001b[0m\n\u001b[1;32m      3\u001b[0m \u001b[0;34m\"\"\" Update those tokens w/o stopwords\"\"\"\u001b[0m\u001b[0;34m\u001b[0m\u001b[0;34m\u001b[0m\u001b[0m\n\u001b[0;32m----> 4\u001b[0;31m \u001b[0;32mfor\u001b[0m \u001b[0mdoc\u001b[0m \u001b[0;32min\u001b[0m \u001b[0mtokenizer\u001b[0m\u001b[0;34m.\u001b[0m\u001b[0mpipe\u001b[0m\u001b[0;34m(\u001b[0m\u001b[0mshop\u001b[0m\u001b[0;34m[\u001b[0m\u001b[0;34m'full_review_text'\u001b[0m\u001b[0;34m]\u001b[0m\u001b[0;34m,\u001b[0m \u001b[0mbatch_size\u001b[0m\u001b[0;34m=\u001b[0m\u001b[0;36m500\u001b[0m\u001b[0;34m)\u001b[0m\u001b[0;34m:\u001b[0m\u001b[0;34m\u001b[0m\u001b[0;34m\u001b[0m\u001b[0m\n\u001b[0m\u001b[1;32m      5\u001b[0m \u001b[0;34m\u001b[0m\u001b[0m\n\u001b[1;32m      6\u001b[0m     \u001b[0mdoc_tokens\u001b[0m \u001b[0;34m=\u001b[0m \u001b[0;34m[\u001b[0m\u001b[0;34m]\u001b[0m\u001b[0;34m\u001b[0m\u001b[0;34m\u001b[0m\u001b[0m\n",
            "\u001b[0;32mtokenizer.pyx\u001b[0m in \u001b[0;36mpipe\u001b[0;34m()\u001b[0m\n",
            "\u001b[0;31mTypeError\u001b[0m: Argument 'string' has incorrect type (expected str, got list)"
          ]
        }
      ]
    },
    {
      "cell_type": "code",
      "metadata": {
        "id": "9esq6WYRbY4C",
        "colab_type": "code",
        "colab": {}
      },
      "source": [
        "STOP_WORDS = nlp.Defaults.stop_words.union(['I', 'amazon', 'i', 'Amazon', 'it', \"it's\", 'it.', 'the', 'this', ' ', 'place', 'the', '', 'they'])"
      ],
      "execution_count": 0,
      "outputs": []
    },
    {
      "cell_type": "code",
      "metadata": {
        "id": "rpYMAlPZchF9",
        "colab_type": "code",
        "colab": {
          "base_uri": "https://localhost:8080/",
          "height": 1000
        },
        "outputId": "73e274bf-12a7-428e-bf67-993fb075ec4c"
      },
      "source": [
        "STOP_WORDS"
      ],
      "execution_count": 102,
      "outputs": [
        {
          "output_type": "execute_result",
          "data": {
            "text/plain": [
              "{'',\n",
              " ' ',\n",
              " \"'d\",\n",
              " \"'ll\",\n",
              " \"'m\",\n",
              " \"'re\",\n",
              " \"'s\",\n",
              " \"'ve\",\n",
              " 'Amazon',\n",
              " 'I',\n",
              " 'a',\n",
              " 'about',\n",
              " 'above',\n",
              " 'across',\n",
              " 'after',\n",
              " 'afterwards',\n",
              " 'again',\n",
              " 'against',\n",
              " 'all',\n",
              " 'almost',\n",
              " 'alone',\n",
              " 'along',\n",
              " 'already',\n",
              " 'also',\n",
              " 'although',\n",
              " 'always',\n",
              " 'am',\n",
              " 'amazon',\n",
              " 'among',\n",
              " 'amongst',\n",
              " 'amount',\n",
              " 'an',\n",
              " 'and',\n",
              " 'another',\n",
              " 'any',\n",
              " 'anyhow',\n",
              " 'anyone',\n",
              " 'anything',\n",
              " 'anyway',\n",
              " 'anywhere',\n",
              " 'are',\n",
              " 'around',\n",
              " 'as',\n",
              " 'at',\n",
              " 'back',\n",
              " 'be',\n",
              " 'became',\n",
              " 'because',\n",
              " 'become',\n",
              " 'becomes',\n",
              " 'becoming',\n",
              " 'been',\n",
              " 'before',\n",
              " 'beforehand',\n",
              " 'behind',\n",
              " 'being',\n",
              " 'below',\n",
              " 'beside',\n",
              " 'besides',\n",
              " 'between',\n",
              " 'beyond',\n",
              " 'both',\n",
              " 'bottom',\n",
              " 'but',\n",
              " 'by',\n",
              " 'ca',\n",
              " 'call',\n",
              " 'can',\n",
              " 'cannot',\n",
              " 'could',\n",
              " 'did',\n",
              " 'do',\n",
              " 'does',\n",
              " 'doing',\n",
              " 'done',\n",
              " 'down',\n",
              " 'due',\n",
              " 'during',\n",
              " 'each',\n",
              " 'eight',\n",
              " 'either',\n",
              " 'eleven',\n",
              " 'else',\n",
              " 'elsewhere',\n",
              " 'empty',\n",
              " 'enough',\n",
              " 'even',\n",
              " 'ever',\n",
              " 'every',\n",
              " 'everyone',\n",
              " 'everything',\n",
              " 'everywhere',\n",
              " 'except',\n",
              " 'few',\n",
              " 'fifteen',\n",
              " 'fifty',\n",
              " 'first',\n",
              " 'five',\n",
              " 'for',\n",
              " 'former',\n",
              " 'formerly',\n",
              " 'forty',\n",
              " 'four',\n",
              " 'from',\n",
              " 'front',\n",
              " 'full',\n",
              " 'further',\n",
              " 'get',\n",
              " 'give',\n",
              " 'go',\n",
              " 'had',\n",
              " 'has',\n",
              " 'have',\n",
              " 'he',\n",
              " 'hence',\n",
              " 'her',\n",
              " 'here',\n",
              " 'hereafter',\n",
              " 'hereby',\n",
              " 'herein',\n",
              " 'hereupon',\n",
              " 'hers',\n",
              " 'herself',\n",
              " 'him',\n",
              " 'himself',\n",
              " 'his',\n",
              " 'how',\n",
              " 'however',\n",
              " 'hundred',\n",
              " 'i',\n",
              " 'if',\n",
              " 'in',\n",
              " 'indeed',\n",
              " 'into',\n",
              " 'is',\n",
              " 'it',\n",
              " \"it's\",\n",
              " 'it.',\n",
              " 'its',\n",
              " 'itself',\n",
              " 'just',\n",
              " 'keep',\n",
              " 'last',\n",
              " 'latter',\n",
              " 'latterly',\n",
              " 'least',\n",
              " 'less',\n",
              " 'made',\n",
              " 'make',\n",
              " 'many',\n",
              " 'may',\n",
              " 'me',\n",
              " 'meanwhile',\n",
              " 'might',\n",
              " 'mine',\n",
              " 'more',\n",
              " 'moreover',\n",
              " 'most',\n",
              " 'mostly',\n",
              " 'move',\n",
              " 'much',\n",
              " 'must',\n",
              " 'my',\n",
              " 'myself',\n",
              " \"n't\",\n",
              " 'name',\n",
              " 'namely',\n",
              " 'neither',\n",
              " 'never',\n",
              " 'nevertheless',\n",
              " 'next',\n",
              " 'nine',\n",
              " 'no',\n",
              " 'nobody',\n",
              " 'none',\n",
              " 'noone',\n",
              " 'nor',\n",
              " 'not',\n",
              " 'nothing',\n",
              " 'now',\n",
              " 'nowhere',\n",
              " 'n‘t',\n",
              " 'n’t',\n",
              " 'of',\n",
              " 'off',\n",
              " 'often',\n",
              " 'on',\n",
              " 'once',\n",
              " 'one',\n",
              " 'only',\n",
              " 'onto',\n",
              " 'or',\n",
              " 'other',\n",
              " 'others',\n",
              " 'otherwise',\n",
              " 'our',\n",
              " 'ours',\n",
              " 'ourselves',\n",
              " 'out',\n",
              " 'over',\n",
              " 'own',\n",
              " 'part',\n",
              " 'per',\n",
              " 'perhaps',\n",
              " 'place',\n",
              " 'please',\n",
              " 'put',\n",
              " 'quite',\n",
              " 'rather',\n",
              " 're',\n",
              " 'really',\n",
              " 'regarding',\n",
              " 'same',\n",
              " 'say',\n",
              " 'see',\n",
              " 'seem',\n",
              " 'seemed',\n",
              " 'seeming',\n",
              " 'seems',\n",
              " 'serious',\n",
              " 'several',\n",
              " 'she',\n",
              " 'should',\n",
              " 'show',\n",
              " 'side',\n",
              " 'since',\n",
              " 'six',\n",
              " 'sixty',\n",
              " 'so',\n",
              " 'some',\n",
              " 'somehow',\n",
              " 'someone',\n",
              " 'something',\n",
              " 'sometime',\n",
              " 'sometimes',\n",
              " 'somewhere',\n",
              " 'still',\n",
              " 'such',\n",
              " 'take',\n",
              " 'ten',\n",
              " 'than',\n",
              " 'that',\n",
              " 'the',\n",
              " 'their',\n",
              " 'them',\n",
              " 'themselves',\n",
              " 'then',\n",
              " 'thence',\n",
              " 'there',\n",
              " 'thereafter',\n",
              " 'thereby',\n",
              " 'therefore',\n",
              " 'therein',\n",
              " 'thereupon',\n",
              " 'these',\n",
              " 'they',\n",
              " 'third',\n",
              " 'this',\n",
              " 'those',\n",
              " 'though',\n",
              " 'three',\n",
              " 'through',\n",
              " 'throughout',\n",
              " 'thru',\n",
              " 'thus',\n",
              " 'to',\n",
              " 'together',\n",
              " 'too',\n",
              " 'top',\n",
              " 'toward',\n",
              " 'towards',\n",
              " 'twelve',\n",
              " 'twenty',\n",
              " 'two',\n",
              " 'under',\n",
              " 'unless',\n",
              " 'until',\n",
              " 'up',\n",
              " 'upon',\n",
              " 'us',\n",
              " 'used',\n",
              " 'using',\n",
              " 'various',\n",
              " 'very',\n",
              " 'via',\n",
              " 'was',\n",
              " 'we',\n",
              " 'well',\n",
              " 'were',\n",
              " 'what',\n",
              " 'whatever',\n",
              " 'when',\n",
              " 'whence',\n",
              " 'whenever',\n",
              " 'where',\n",
              " 'whereafter',\n",
              " 'whereas',\n",
              " 'whereby',\n",
              " 'wherein',\n",
              " 'whereupon',\n",
              " 'wherever',\n",
              " 'whether',\n",
              " 'which',\n",
              " 'while',\n",
              " 'whither',\n",
              " 'who',\n",
              " 'whoever',\n",
              " 'whole',\n",
              " 'whom',\n",
              " 'whose',\n",
              " 'why',\n",
              " 'will',\n",
              " 'with',\n",
              " 'within',\n",
              " 'without',\n",
              " 'would',\n",
              " 'yet',\n",
              " 'you',\n",
              " 'your',\n",
              " 'yours',\n",
              " 'yourself',\n",
              " 'yourselves',\n",
              " '‘d',\n",
              " '‘ll',\n",
              " '‘m',\n",
              " '‘re',\n",
              " '‘s',\n",
              " '‘ve',\n",
              " '’d',\n",
              " '’ll',\n",
              " '’m',\n",
              " '’re',\n",
              " '’s',\n",
              " '’ve'}"
            ]
          },
          "metadata": {
            "tags": []
          },
          "execution_count": 102
        }
      ]
    },
    {
      "cell_type": "code",
      "metadata": {
        "id": "6YK76kneaxt6",
        "colab_type": "code",
        "colab": {}
      },
      "source": [
        "tokens = []\n",
        "\n",
        "for doc in tokenizer.pipe(shop['full_review_text'], batch_size=500):\n",
        "    \n",
        "    doc_tokens = []\n",
        "    \n",
        "    for token in doc: \n",
        "        if token.text not in STOP_WORDS:\n",
        "            doc_tokens.append(token.text.lower())\n",
        "   \n",
        "    tokens.append(doc_tokens)\n",
        "    \n",
        "shop['full_review_text'] = tokens"
      ],
      "execution_count": 0,
      "outputs": []
    },
    {
      "cell_type": "code",
      "metadata": {
        "id": "VWx5OtrVbppt",
        "colab_type": "code",
        "colab": {
          "base_uri": "https://localhost:8080/",
          "height": 204
        },
        "outputId": "a1a92067-461b-43e8-b6b1-a3f177444a6d"
      },
      "source": [
        "wc = count(shop['full_review_text'])\n",
        "wc.head()"
      ],
      "execution_count": 104,
      "outputs": [
        {
          "output_type": "execute_result",
          "data": {
            "text/html": [
              "<div>\n",
              "<style scoped>\n",
              "    .dataframe tbody tr th:only-of-type {\n",
              "        vertical-align: middle;\n",
              "    }\n",
              "\n",
              "    .dataframe tbody tr th {\n",
              "        vertical-align: top;\n",
              "    }\n",
              "\n",
              "    .dataframe thead th {\n",
              "        text-align: right;\n",
              "    }\n",
              "</style>\n",
              "<table border=\"1\" class=\"dataframe\">\n",
              "  <thead>\n",
              "    <tr style=\"text-align: right;\">\n",
              "      <th></th>\n",
              "      <th>word</th>\n",
              "      <th>appears_in</th>\n",
              "      <th>count</th>\n",
              "      <th>rank</th>\n",
              "      <th>pct_total</th>\n",
              "      <th>cul_pct_total</th>\n",
              "      <th>appears_in_pct</th>\n",
              "    </tr>\n",
              "  </thead>\n",
              "  <tbody>\n",
              "    <tr>\n",
              "      <th>15</th>\n",
              "      <td>coffee</td>\n",
              "      <td>4210</td>\n",
              "      <td>8058</td>\n",
              "      <td>1.0</td>\n",
              "      <td>0.018906</td>\n",
              "      <td>0.018906</td>\n",
              "      <td>0.552784</td>\n",
              "    </tr>\n",
              "    <tr>\n",
              "      <th>89</th>\n",
              "      <td>the</td>\n",
              "      <td>3936</td>\n",
              "      <td>6870</td>\n",
              "      <td>2.0</td>\n",
              "      <td>0.016119</td>\n",
              "      <td>0.035025</td>\n",
              "      <td>0.516807</td>\n",
              "    </tr>\n",
              "    <tr>\n",
              "      <th>119</th>\n",
              "      <td>great</td>\n",
              "      <td>2438</td>\n",
              "      <td>3250</td>\n",
              "      <td>3.0</td>\n",
              "      <td>0.007625</td>\n",
              "      <td>0.042650</td>\n",
              "      <td>0.320116</td>\n",
              "    </tr>\n",
              "    <tr>\n",
              "      <th>189</th>\n",
              "      <td>like</td>\n",
              "      <td>2034</td>\n",
              "      <td>2902</td>\n",
              "      <td>4.0</td>\n",
              "      <td>0.006809</td>\n",
              "      <td>0.049459</td>\n",
              "      <td>0.267069</td>\n",
              "    </tr>\n",
              "    <tr>\n",
              "      <th>200</th>\n",
              "      <td>good</td>\n",
              "      <td>2084</td>\n",
              "      <td>2779</td>\n",
              "      <td>5.0</td>\n",
              "      <td>0.006520</td>\n",
              "      <td>0.055979</td>\n",
              "      <td>0.273634</td>\n",
              "    </tr>\n",
              "  </tbody>\n",
              "</table>\n",
              "</div>"
            ],
            "text/plain": [
              "       word  appears_in  count  rank  pct_total  cul_pct_total  appears_in_pct\n",
              "15   coffee        4210   8058   1.0   0.018906       0.018906        0.552784\n",
              "89      the        3936   6870   2.0   0.016119       0.035025        0.516807\n",
              "119   great        2438   3250   3.0   0.007625       0.042650        0.320116\n",
              "189    like        2034   2902   4.0   0.006809       0.049459        0.267069\n",
              "200    good        2084   2779   5.0   0.006520       0.055979        0.273634"
            ]
          },
          "metadata": {
            "tags": []
          },
          "execution_count": 104
        }
      ]
    },
    {
      "cell_type": "code",
      "metadata": {
        "id": "AgjVp3Xzc_eA",
        "colab_type": "code",
        "colab": {
          "base_uri": "https://localhost:8080/",
          "height": 269
        },
        "outputId": "92090661-c045-4d72-8987-7727024035ca"
      },
      "source": [
        "wc_top20 = wc[wc['rank'] <= 20]\n",
        "\n",
        "squarify.plot(sizes=wc_top20['pct_total'], label=wc_top20['word'], alpha=.8 )\n",
        "plt.axis('off')\n",
        "plt.show()"
      ],
      "execution_count": 105,
      "outputs": [
        {
          "output_type": "display_data",
          "data": {
            "image/png": "[encoded data removed]",
            "text/plain": [
              "<Figure size 432x288 with 1 Axes>"
            ]
          },
          "metadata": {
            "tags": []
          }
        }
      ]
    },
    {
      "cell_type": "markdown",
      "metadata": {
        "id": "owe-hA6wbrwD",
        "colab_type": "text"
      },
      "source": [
        "wc = count(df['tokens'])\n",
        "wc.head()"
      ]
    },
    {
      "cell_type": "code",
      "metadata": {
        "id": "fSEyv0LfdHzh",
        "colab_type": "code",
        "colab": {
          "base_uri": "https://localhost:8080/",
          "height": 283
        },
        "outputId": "524c6de9-5a13-4faa-9b3a-d4ab7a358967"
      },
      "source": [
        "sns.lineplot(x='rank', y='cul_pct_total', data=wc);\n"
      ],
      "execution_count": 106,
      "outputs": [
        {
          "output_type": "display_data",
          "data": {
            "image/png": "[encoded data removed]",
            "text/plain": [
              "<Figure size 432x288 with 1 Axes>"
            ]
          },
          "metadata": {
            "tags": []
          }
        }
      ]
    },
    {
      "cell_type": "code",
      "metadata": {
        "id": "mV6j7ydJdIMl",
        "colab_type": "code",
        "colab": {}
      },
      "source": [
        "def get_lemmas(text):\n",
        "\n",
        "    lemmas = []\n",
        "    \n",
        "    doc = nlp(text)\n",
        "    \n",
        "    # Something goes here :P\n",
        "    for token in doc: \n",
        "        if ((token.is_stop == False) and (token.is_punct == False)) and (token.pos_!= 'PRON'):\n",
        "            lemmas.append(token.lemma_)\n",
        "    \n",
        "    return lemmas"
      ],
      "execution_count": 0,
      "outputs": []
    },
    {
      "cell_type": "code",
      "metadata": {
        "id": "ppcxtOpOdd0p",
        "colab_type": "code",
        "colab": {}
      },
      "source": [
        "shop['full_review_text'] = shop['full_review_text'].apply(get_lemmas)\n"
      ],
      "execution_count": 0,
      "outputs": []
    },
    {
      "cell_type": "code",
      "metadata": {
        "id": "YZa4OpkpduRs",
        "colab_type": "code",
        "colab": {
          "base_uri": "https://localhost:8080/",
          "height": 119
        },
        "outputId": "9e10d93c-c6d3-48a6-ba32-11b78363fa91"
      },
      "source": [
        "shop['full_review_text'].head()"
      ],
      "execution_count": 113,
      "outputs": [
        {
          "output_type": "execute_result",
          "data": {
            "text/plain": [
              "0    [ , 11/25/2016, 1, check, love, love, love, at...\n",
              "1    [ , 12/2/2016, list, Date, Night, Austin, Ambi...\n",
              "2    [ , 11/30/2016, 1, check, Listed, Brunch, Spot...\n",
              "3    [ , 11/25/2016, cool, decor, good, drink, nice...\n",
              "4    [ , 12/3/2016, 1, check, locate, Northcross, m...\n",
              "Name: full_review_text, dtype: object"
            ]
          },
          "metadata": {
            "tags": []
          },
          "execution_count": 113
        }
      ]
    },
    {
      "cell_type": "code",
      "metadata": {
        "id": "JGsRt2j-gj8c",
        "colab_type": "code",
        "colab": {}
      },
      "source": [
        "wc = count(shop['full_review_text'])\n"
      ],
      "execution_count": 0,
      "outputs": []
    },
    {
      "cell_type": "code",
      "metadata": {
        "id": "W2M-Q1K1lWcq",
        "colab_type": "code",
        "colab": {
          "base_uri": "https://localhost:8080/",
          "height": 204
        },
        "outputId": "a09ae240-37c0-4a05-f0f3-902308468945"
      },
      "source": [
        "wc.head()"
      ],
      "execution_count": 115,
      "outputs": [
        {
          "output_type": "execute_result",
          "data": {
            "text/html": [
              "<div>\n",
              "<style scoped>\n",
              "    .dataframe tbody tr th:only-of-type {\n",
              "        vertical-align: middle;\n",
              "    }\n",
              "\n",
              "    .dataframe tbody tr th {\n",
              "        vertical-align: top;\n",
              "    }\n",
              "\n",
              "    .dataframe thead th {\n",
              "        text-align: right;\n",
              "    }\n",
              "</style>\n",
              "<table border=\"1\" class=\"dataframe\">\n",
              "  <thead>\n",
              "    <tr style=\"text-align: right;\">\n",
              "      <th></th>\n",
              "      <th>word</th>\n",
              "      <th>appears_in</th>\n",
              "      <th>count</th>\n",
              "      <th>rank</th>\n",
              "      <th>pct_total</th>\n",
              "      <th>cul_pct_total</th>\n",
              "      <th>appears_in_pct</th>\n",
              "    </tr>\n",
              "  </thead>\n",
              "  <tbody>\n",
              "    <tr>\n",
              "      <th>4</th>\n",
              "      <td></td>\n",
              "      <td>7616</td>\n",
              "      <td>22606</td>\n",
              "      <td>1.0</td>\n",
              "      <td>0.057554</td>\n",
              "      <td>0.057554</td>\n",
              "      <td>1.000000</td>\n",
              "    </tr>\n",
              "    <tr>\n",
              "      <th>12</th>\n",
              "      <td>coffee</td>\n",
              "      <td>4800</td>\n",
              "      <td>10053</td>\n",
              "      <td>2.0</td>\n",
              "      <td>0.025594</td>\n",
              "      <td>0.083148</td>\n",
              "      <td>0.630252</td>\n",
              "    </tr>\n",
              "    <tr>\n",
              "      <th>80</th>\n",
              "      <td>place</td>\n",
              "      <td>3869</td>\n",
              "      <td>6007</td>\n",
              "      <td>3.0</td>\n",
              "      <td>0.015294</td>\n",
              "      <td>0.098442</td>\n",
              "      <td>0.508009</td>\n",
              "    </tr>\n",
              "    <tr>\n",
              "      <th>169</th>\n",
              "      <td>good</td>\n",
              "      <td>3561</td>\n",
              "      <td>5299</td>\n",
              "      <td>4.0</td>\n",
              "      <td>0.013491</td>\n",
              "      <td>0.111933</td>\n",
              "      <td>0.467568</td>\n",
              "    </tr>\n",
              "    <tr>\n",
              "      <th>112</th>\n",
              "      <td>great</td>\n",
              "      <td>2833</td>\n",
              "      <td>3894</td>\n",
              "      <td>5.0</td>\n",
              "      <td>0.009914</td>\n",
              "      <td>0.121847</td>\n",
              "      <td>0.371980</td>\n",
              "    </tr>\n",
              "  </tbody>\n",
              "</table>\n",
              "</div>"
            ],
            "text/plain": [
              "       word  appears_in  count  rank  pct_total  cul_pct_total  appears_in_pct\n",
              "4                  7616  22606   1.0   0.057554       0.057554        1.000000\n",
              "12   coffee        4800  10053   2.0   0.025594       0.083148        0.630252\n",
              "80    place        3869   6007   3.0   0.015294       0.098442        0.508009\n",
              "169    good        3561   5299   4.0   0.013491       0.111933        0.467568\n",
              "112   great        2833   3894   5.0   0.009914       0.121847        0.371980"
            ]
          },
          "metadata": {
            "tags": []
          },
          "execution_count": 115
        }
      ]
    },
    {
      "cell_type": "code",
      "metadata": {
        "id": "ukdi_aQdlaza",
        "colab_type": "code",
        "colab": {
          "base_uri": "https://localhost:8080/",
          "height": 269
        },
        "outputId": "556d1017-025f-43a2-a5fe-99f6580f8e5a"
      },
      "source": [
        "wc_top20 = wc[wc['rank'] <= 20]\n",
        "\n",
        "squarify.plot(sizes=wc_top20['pct_total'], label=wc_top20['word'], alpha=.8 )\n",
        "plt.axis('off')\n",
        "plt.show()"
      ],
      "execution_count": 116,
      "outputs": [
        {
          "output_type": "display_data",
          "data": {
            "image/png": "[encoded data removed]",
            "text/plain": [
              "<Figure size 432x288 with 1 Axes>"
            ]
          },
          "metadata": {
            "tags": []
          }
        }
      ]
    },
    {
      "cell_type": "markdown",
      "metadata": {
        "id": "bA9D0igrlQkg",
        "colab_type": "text"
      },
      "source": [
        ""
      ]
    }
  ]
}